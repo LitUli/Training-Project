{
 "cells": [
  {
   "cell_type": "markdown",
   "id": "9e120804",
   "metadata": {},
   "source": [
    "### In this project, I had to analyze data from a live test to determine the effectiveness of a new mobile app that has been built. The following code allow us to answer on these questions\n",
    "\n",
    "\n",
    "Will the app lead to increased spending on the part of customers?\n",
    "\n",
    "How much of an increase in spending do you expect? \n",
    "\n",
    "Do you expect the app’s effect on spending to vary by customers’ characteristics?"
   ]
  },
  {
   "cell_type": "code",
   "execution_count": 1,
   "id": "5245090c",
   "metadata": {
    "id": "5245090c"
   },
   "outputs": [],
   "source": [
    "#### Importing the necessary libraries\n",
    "import pandas as pd\n",
    "import numpy as np\n",
    "import seaborn as sns\n",
    "import warnings\n",
    "warnings.filterwarnings(\"ignore\")"
   ]
  },
  {
   "cell_type": "markdown",
   "id": "187eb4e2",
   "metadata": {
    "id": "187eb4e2"
   },
   "source": [
    "#### Part I - Data Preparation and Wrangling\n",
    "\n",
    "***Data Loading and Preparation***:\n",
    "\n",
    "  - Are there any missing values? Ideally, there shouldn't be any.\n",
    "  - Are there any variables which are of an incorrect datatype? For e.g. categorical columns are stored as integers in the data set. In case you encounter such issues, make sure you convert the columns to the correct datatypes."
   ]
  },
  {
   "cell_type": "code",
   "execution_count": 2,
   "id": "9a0bf817",
   "metadata": {
    "id": "9a0bf817"
   },
   "outputs": [
    {
     "data": {
      "text/html": [
       "<div>\n",
       "<style scoped>\n",
       "    .dataframe tbody tr th:only-of-type {\n",
       "        vertical-align: middle;\n",
       "    }\n",
       "\n",
       "    .dataframe tbody tr th {\n",
       "        vertical-align: top;\n",
       "    }\n",
       "\n",
       "    .dataframe thead th {\n",
       "        text-align: right;\n",
       "    }\n",
       "</style>\n",
       "<table border=\"1\" class=\"dataframe\">\n",
       "  <thead>\n",
       "    <tr style=\"text-align: right;\">\n",
       "      <th></th>\n",
       "      <th>CustomerID</th>\n",
       "      <th>Adopt</th>\n",
       "      <th>Gender</th>\n",
       "      <th>Age</th>\n",
       "      <th>Nationality</th>\n",
       "      <th>Loyalty</th>\n",
       "      <th>Tenure</th>\n",
       "      <th>Post</th>\n",
       "      <th>NumBookings</th>\n",
       "      <th>Spending</th>\n",
       "    </tr>\n",
       "  </thead>\n",
       "  <tbody>\n",
       "    <tr>\n",
       "      <th>0</th>\n",
       "      <td>1001</td>\n",
       "      <td>1</td>\n",
       "      <td>Male</td>\n",
       "      <td>34</td>\n",
       "      <td>1</td>\n",
       "      <td>2</td>\n",
       "      <td>57</td>\n",
       "      <td>1</td>\n",
       "      <td>18</td>\n",
       "      <td>5760</td>\n",
       "    </tr>\n",
       "    <tr>\n",
       "      <th>1</th>\n",
       "      <td>1002</td>\n",
       "      <td>1</td>\n",
       "      <td>Female</td>\n",
       "      <td>36</td>\n",
       "      <td>1</td>\n",
       "      <td>2</td>\n",
       "      <td>5</td>\n",
       "      <td>1</td>\n",
       "      <td>6</td>\n",
       "      <td>1830</td>\n",
       "    </tr>\n",
       "    <tr>\n",
       "      <th>2</th>\n",
       "      <td>1003</td>\n",
       "      <td>1</td>\n",
       "      <td>Female</td>\n",
       "      <td>43</td>\n",
       "      <td>1</td>\n",
       "      <td>1</td>\n",
       "      <td>12</td>\n",
       "      <td>1</td>\n",
       "      <td>9</td>\n",
       "      <td>2682</td>\n",
       "    </tr>\n",
       "    <tr>\n",
       "      <th>3</th>\n",
       "      <td>1004</td>\n",
       "      <td>1</td>\n",
       "      <td>Male</td>\n",
       "      <td>47</td>\n",
       "      <td>1</td>\n",
       "      <td>1</td>\n",
       "      <td>70</td>\n",
       "      <td>1</td>\n",
       "      <td>21</td>\n",
       "      <td>6846</td>\n",
       "    </tr>\n",
       "    <tr>\n",
       "      <th>4</th>\n",
       "      <td>1005</td>\n",
       "      <td>1</td>\n",
       "      <td>Male</td>\n",
       "      <td>41</td>\n",
       "      <td>1</td>\n",
       "      <td>2</td>\n",
       "      <td>13</td>\n",
       "      <td>1</td>\n",
       "      <td>11</td>\n",
       "      <td>3377</td>\n",
       "    </tr>\n",
       "  </tbody>\n",
       "</table>\n",
       "</div>"
      ],
      "text/plain": [
       "   CustomerID  Adopt  Gender  Age  Nationality  Loyalty  Tenure  Post  \\\n",
       "0        1001      1    Male   34            1        2      57     1   \n",
       "1        1002      1  Female   36            1        2       5     1   \n",
       "2        1003      1  Female   43            1        1      12     1   \n",
       "3        1004      1    Male   47            1        1      70     1   \n",
       "4        1005      1    Male   41            1        2      13     1   \n",
       "\n",
       "   NumBookings  Spending  \n",
       "0           18      5760  \n",
       "1            6      1830  \n",
       "2            9      2682  \n",
       "3           21      6846  \n",
       "4           11      3377  "
      ]
     },
     "execution_count": 2,
     "metadata": {},
     "output_type": "execute_result"
    }
   ],
   "source": [
    "## Load the dataset\n",
    "df = pd.read_csv(r\"C:\\Users\\admin\\Downloads\\data_app.csv\")\n",
    "df.head(5)"
   ]
  },
  {
   "cell_type": "code",
   "execution_count": 3,
   "id": "5c4102cf",
   "metadata": {
    "id": "5c4102cf"
   },
   "outputs": [
    {
     "name": "stdout",
     "output_type": "stream",
     "text": [
      "<class 'pandas.core.frame.DataFrame'>\n",
      "RangeIndex: 4000 entries, 0 to 3999\n",
      "Data columns (total 10 columns):\n",
      " #   Column       Non-Null Count  Dtype \n",
      "---  ------       --------------  ----- \n",
      " 0   CustomerID   4000 non-null   int64 \n",
      " 1   Adopt        4000 non-null   int64 \n",
      " 2   Gender       4000 non-null   object\n",
      " 3   Age          4000 non-null   int64 \n",
      " 4   Nationality  4000 non-null   int64 \n",
      " 5   Loyalty      4000 non-null   int64 \n",
      " 6   Tenure       4000 non-null   int64 \n",
      " 7   Post         4000 non-null   int64 \n",
      " 8   NumBookings  4000 non-null   int64 \n",
      " 9   Spending     4000 non-null   int64 \n",
      "dtypes: int64(9), object(1)\n",
      "memory usage: 312.6+ KB\n"
     ]
    }
   ],
   "source": [
    "## Check the datatypes and missing values\n",
    "## Hint - You can evaluate both using a single method\n",
    "##print(df.isnull().values.any())\n",
    "##print(df.dtypes)\n",
    "\n",
    "df.info(verbose=True)"
   ]
  },
  {
   "cell_type": "markdown",
   "id": "c6cd44d1",
   "metadata": {
    "id": "c6cd44d1"
   },
   "source": [
    "##### Record your observations"
   ]
  },
  {
   "cell_type": "markdown",
   "id": "6ef306fa",
   "metadata": {
    "id": "6ef306fa"
   },
   "source": [
    "#### Part II: Exploratory Data Analysis\n",
    "\n",
    "***Univariate Analysis I: Data summary of customers’ characteristics***\n",
    "\n",
    "   - Use appropriate tables for the summary statistics and charts and describe the customers’ characteristics. You may restrict yourself to the univariate analysis of these variables:\n",
    "\n",
    "          - Demographics: Gender, age, nationality\n",
    "          - Loyalty membership and tenure with the hotel chain (in months)"
   ]
  },
  {
   "cell_type": "code",
   "execution_count": 4,
   "id": "a1668b9c",
   "metadata": {
    "id": "a1668b9c"
   },
   "outputs": [
    {
     "data": {
      "text/html": [
       "<div>\n",
       "<style scoped>\n",
       "    .dataframe tbody tr th:only-of-type {\n",
       "        vertical-align: middle;\n",
       "    }\n",
       "\n",
       "    .dataframe tbody tr th {\n",
       "        vertical-align: top;\n",
       "    }\n",
       "\n",
       "    .dataframe thead th {\n",
       "        text-align: right;\n",
       "    }\n",
       "</style>\n",
       "<table border=\"1\" class=\"dataframe\">\n",
       "  <thead>\n",
       "    <tr style=\"text-align: right;\">\n",
       "      <th></th>\n",
       "      <th>CustomerID</th>\n",
       "      <th>Adopt</th>\n",
       "      <th>Gender</th>\n",
       "      <th>Age</th>\n",
       "      <th>Nationality</th>\n",
       "      <th>Loyalty</th>\n",
       "      <th>Tenure</th>\n",
       "      <th>Post</th>\n",
       "      <th>NumBookings</th>\n",
       "      <th>Spending</th>\n",
       "    </tr>\n",
       "  </thead>\n",
       "  <tbody>\n",
       "    <tr>\n",
       "      <th>0</th>\n",
       "      <td>1001</td>\n",
       "      <td>1</td>\n",
       "      <td>Male</td>\n",
       "      <td>34</td>\n",
       "      <td>1</td>\n",
       "      <td>2</td>\n",
       "      <td>57</td>\n",
       "      <td>1</td>\n",
       "      <td>18</td>\n",
       "      <td>5760</td>\n",
       "    </tr>\n",
       "    <tr>\n",
       "      <th>1</th>\n",
       "      <td>1002</td>\n",
       "      <td>1</td>\n",
       "      <td>Female</td>\n",
       "      <td>36</td>\n",
       "      <td>1</td>\n",
       "      <td>2</td>\n",
       "      <td>5</td>\n",
       "      <td>1</td>\n",
       "      <td>6</td>\n",
       "      <td>1830</td>\n",
       "    </tr>\n",
       "    <tr>\n",
       "      <th>2</th>\n",
       "      <td>1003</td>\n",
       "      <td>1</td>\n",
       "      <td>Female</td>\n",
       "      <td>43</td>\n",
       "      <td>1</td>\n",
       "      <td>1</td>\n",
       "      <td>12</td>\n",
       "      <td>1</td>\n",
       "      <td>9</td>\n",
       "      <td>2682</td>\n",
       "    </tr>\n",
       "    <tr>\n",
       "      <th>3</th>\n",
       "      <td>1004</td>\n",
       "      <td>1</td>\n",
       "      <td>Male</td>\n",
       "      <td>47</td>\n",
       "      <td>1</td>\n",
       "      <td>1</td>\n",
       "      <td>70</td>\n",
       "      <td>1</td>\n",
       "      <td>21</td>\n",
       "      <td>6846</td>\n",
       "    </tr>\n",
       "    <tr>\n",
       "      <th>4</th>\n",
       "      <td>1005</td>\n",
       "      <td>1</td>\n",
       "      <td>Male</td>\n",
       "      <td>41</td>\n",
       "      <td>1</td>\n",
       "      <td>2</td>\n",
       "      <td>13</td>\n",
       "      <td>1</td>\n",
       "      <td>11</td>\n",
       "      <td>3377</td>\n",
       "    </tr>\n",
       "    <tr>\n",
       "      <th>...</th>\n",
       "      <td>...</td>\n",
       "      <td>...</td>\n",
       "      <td>...</td>\n",
       "      <td>...</td>\n",
       "      <td>...</td>\n",
       "      <td>...</td>\n",
       "      <td>...</td>\n",
       "      <td>...</td>\n",
       "      <td>...</td>\n",
       "      <td>...</td>\n",
       "    </tr>\n",
       "    <tr>\n",
       "      <th>2995</th>\n",
       "      <td>996</td>\n",
       "      <td>0</td>\n",
       "      <td>Male</td>\n",
       "      <td>25</td>\n",
       "      <td>1</td>\n",
       "      <td>1</td>\n",
       "      <td>16</td>\n",
       "      <td>1</td>\n",
       "      <td>6</td>\n",
       "      <td>1488</td>\n",
       "    </tr>\n",
       "    <tr>\n",
       "      <th>2996</th>\n",
       "      <td>997</td>\n",
       "      <td>0</td>\n",
       "      <td>Female</td>\n",
       "      <td>51</td>\n",
       "      <td>0</td>\n",
       "      <td>1</td>\n",
       "      <td>54</td>\n",
       "      <td>1</td>\n",
       "      <td>17</td>\n",
       "      <td>4403</td>\n",
       "    </tr>\n",
       "    <tr>\n",
       "      <th>2997</th>\n",
       "      <td>998</td>\n",
       "      <td>0</td>\n",
       "      <td>Female</td>\n",
       "      <td>39</td>\n",
       "      <td>1</td>\n",
       "      <td>2</td>\n",
       "      <td>58</td>\n",
       "      <td>1</td>\n",
       "      <td>19</td>\n",
       "      <td>4370</td>\n",
       "    </tr>\n",
       "    <tr>\n",
       "      <th>2998</th>\n",
       "      <td>999</td>\n",
       "      <td>0</td>\n",
       "      <td>Male</td>\n",
       "      <td>23</td>\n",
       "      <td>1</td>\n",
       "      <td>4</td>\n",
       "      <td>57</td>\n",
       "      <td>1</td>\n",
       "      <td>20</td>\n",
       "      <td>5020</td>\n",
       "    </tr>\n",
       "    <tr>\n",
       "      <th>2999</th>\n",
       "      <td>1000</td>\n",
       "      <td>0</td>\n",
       "      <td>Male</td>\n",
       "      <td>45</td>\n",
       "      <td>1</td>\n",
       "      <td>1</td>\n",
       "      <td>3</td>\n",
       "      <td>1</td>\n",
       "      <td>6</td>\n",
       "      <td>1446</td>\n",
       "    </tr>\n",
       "  </tbody>\n",
       "</table>\n",
       "<p>2000 rows × 10 columns</p>\n",
       "</div>"
      ],
      "text/plain": [
       "      CustomerID  Adopt  Gender  Age  Nationality  Loyalty  Tenure  Post  \\\n",
       "0           1001      1    Male   34            1        2      57     1   \n",
       "1           1002      1  Female   36            1        2       5     1   \n",
       "2           1003      1  Female   43            1        1      12     1   \n",
       "3           1004      1    Male   47            1        1      70     1   \n",
       "4           1005      1    Male   41            1        2      13     1   \n",
       "...          ...    ...     ...  ...          ...      ...     ...   ...   \n",
       "2995         996      0    Male   25            1        1      16     1   \n",
       "2996         997      0  Female   51            0        1      54     1   \n",
       "2997         998      0  Female   39            1        2      58     1   \n",
       "2998         999      0    Male   23            1        4      57     1   \n",
       "2999        1000      0    Male   45            1        1       3     1   \n",
       "\n",
       "      NumBookings  Spending  \n",
       "0              18      5760  \n",
       "1               6      1830  \n",
       "2               9      2682  \n",
       "3              21      6846  \n",
       "4              11      3377  \n",
       "...           ...       ...  \n",
       "2995            6      1488  \n",
       "2996           17      4403  \n",
       "2997           19      4370  \n",
       "2998           20      5020  \n",
       "2999            6      1446  \n",
       "\n",
       "[2000 rows x 10 columns]"
      ]
     },
     "execution_count": 4,
     "metadata": {},
     "output_type": "execute_result"
    }
   ],
   "source": [
    "### Before starting with Univariate Analysis, make sure to filter the dataframe to only include one period, either Post = 0 or Post = 1\n",
    "### This way there won't be any repetitions in demographics data for the same customer\n",
    "\n",
    "### WRITE CODE FOR FILTERING THE DATAFRAME\n",
    "post1 = df[df['Post']==1]\n",
    "post1"
   ]
  },
  {
   "cell_type": "code",
   "execution_count": null,
   "id": "26df69ad",
   "metadata": {
    "id": "26df69ad"
   },
   "outputs": [],
   "source": [
    "### Next let's start making plots to describe each customer characteristic using the above filtered dataframe"
   ]
  },
  {
   "cell_type": "code",
   "execution_count": null,
   "id": "f436635f",
   "metadata": {
    "id": "f436635f"
   },
   "outputs": [],
   "source": [
    "### Hint - If you're unsure what plots/summary statistics to use, inspect the datatypes (categorical or numerical) for the demographic characteristics\n",
    "### Next, revise your EDA I and EDA II modules to understand which charts are useful for a specific datatype\n"
   ]
  },
  {
   "cell_type": "code",
   "execution_count": 5,
   "id": "a920a653",
   "metadata": {
    "id": "a920a653"
   },
   "outputs": [
    {
     "data": {
      "text/plain": [
       "<Axes: xlabel='Gender', ylabel='count'>"
      ]
     },
     "execution_count": 5,
     "metadata": {},
     "output_type": "execute_result"
    },
    {
     "data": {
      "image/png": "[encoded data removed]",
      "text/plain": [
       "<Figure size 640x480 with 1 Axes>"
      ]
     },
     "metadata": {},
     "output_type": "display_data"
    }
   ],
   "source": [
    "### WRITE CODE FOR ANALYSING \"GENDER\" VARIABLE\n",
    "sns.countplot(data = post1, x = 'Gender')"
   ]
  },
  {
   "cell_type": "code",
   "execution_count": 6,
   "id": "uKCl45nDePmj",
   "metadata": {
    "id": "uKCl45nDePmj"
   },
   "outputs": [
    {
     "data": {
      "text/plain": [
       "<Axes: xlabel='Nationality', ylabel='count'>"
      ]
     },
     "execution_count": 6,
     "metadata": {},
     "output_type": "execute_result"
    },
    {
     "data": {
      "image/png": "[encoded data removed]",
      "text/plain": [
       "<Figure size 640x480 with 1 Axes>"
      ]
     },
     "metadata": {},
     "output_type": "display_data"
    }
   ],
   "source": [
    "### WRITE CODE FOR ANALYSING \"NATIONALITY\" VARIABLE\n",
    "#how many people belong to US nationality(1) and non US nationality(0)\n",
    "sns.countplot(data = post1, x = 'Nationality')"
   ]
  },
  {
   "cell_type": "code",
   "execution_count": 7,
   "id": "_2Z7pEdOeW3c",
   "metadata": {
    "id": "_2Z7pEdOeW3c"
   },
   "outputs": [
    {
     "data": {
      "text/plain": [
       "<Axes: xlabel='Loyalty', ylabel='count'>"
      ]
     },
     "execution_count": 7,
     "metadata": {},
     "output_type": "execute_result"
    },
    {
     "data": {
      "image/png": "[encoded data removed]",
      "text/plain": [
       "<Figure size 640x480 with 1 Axes>"
      ]
     },
     "metadata": {},
     "output_type": "display_data"
    }
   ],
   "source": [
    "### WRITE CODE FOR ANALYSING \"LOYALTY\"\n",
    "#how many people belong to each loyalty category\n",
    "sns.countplot(data = post1, x = 'Loyalty')"
   ]
  },
  {
   "cell_type": "code",
   "execution_count": 8,
   "id": "ptP7ZdElea7s",
   "metadata": {
    "id": "ptP7ZdElea7s"
   },
   "outputs": [
    {
     "data": {
      "text/plain": [
       "<Axes: xlabel='Age', ylabel='Count'>"
      ]
     },
     "execution_count": 8,
     "metadata": {},
     "output_type": "execute_result"
    },
    {
     "data": {
      "image/png": "[encoded data removed]",
      "text/plain": [
       "<Figure size 640x480 with 1 Axes>"
      ]
     },
     "metadata": {},
     "output_type": "display_data"
    }
   ],
   "source": [
    "### WRITE CODE FOR ANALYSING \"AGE\"\n",
    "# we can see that the largest group of people are between age of 40 and 50) \n",
    "bin_start = 0\n",
    "bin_end = 90\n",
    "bin_width = 10\n",
    "sns.histplot(data = post1, x = 'Age', bins = range(bin_start, bin_end, bin_width))\n"
   ]
  },
  {
   "cell_type": "code",
   "execution_count": 9,
   "id": "MPosp7a9efKo",
   "metadata": {
    "id": "MPosp7a9efKo"
   },
   "outputs": [
    {
     "data": {
      "text/plain": [
       "<Axes: xlabel='Tenure', ylabel='Count'>"
      ]
     },
     "execution_count": 9,
     "metadata": {},
     "output_type": "execute_result"
    },
    {
     "data": {
      "image/png": "[encoded data removed]",
      "text/plain": [
       "<Figure size 640x480 with 1 Axes>"
      ]
     },
     "metadata": {},
     "output_type": "display_data"
    }
   ],
   "source": [
    "### WRITE CODE FOR ANALYSING \"TENURE\"\n",
    "bin_start = 0\n",
    "bin_end = 120\n",
    "bin_width = 10\n",
    "sns.histplot(data = post1, x = 'Tenure', bins = range(bin_start, bin_end, bin_width))"
   ]
  },
  {
   "cell_type": "markdown",
   "id": "7abb4ef5",
   "metadata": {
    "id": "7abb4ef5"
   },
   "source": [
    "#### Part II: Exploratory Data Analysis\n",
    "\n",
    "***Univariate Analysis II: Data summary of customers’ purchase behavior***\n",
    "\n",
    "   - Use appropriate tables for the summary statistics and graphs and describe customers’ purchase behavior. You may restrict yourself to the univariate analysis of these variables::\n",
    "\n",
    "          - Amount spent [Spending]\n",
    "          - Number of bookings [NumBookings]"
   ]
  },
  {
   "cell_type": "code",
   "execution_count": null,
   "id": "beff0f9c",
   "metadata": {
    "id": "beff0f9c"
   },
   "outputs": [],
   "source": [
    "### For amount spent and number of bookings, we will get 2 values for the same customer\n",
    "### One for Post = 0 and another for Post = 1\n",
    "### You can analyze the data separately for Post = 0 and Post = 1 phases\n",
    "\n"
   ]
  },
  {
   "cell_type": "code",
   "execution_count": 10,
   "id": "d5877951",
   "metadata": {
    "id": "d5877951"
   },
   "outputs": [
    {
     "data": {
      "text/plain": [
       "<Axes: xlabel='Spending', ylabel='Count'>"
      ]
     },
     "execution_count": 10,
     "metadata": {},
     "output_type": "execute_result"
    },
    {
     "data": {
      "image/png": "[encoded data removed]",
      "text/plain": [
       "<Figure size 640x480 with 1 Axes>"
      ]
     },
     "metadata": {},
     "output_type": "display_data"
    }
   ],
   "source": [
    "### WRITE CODE FOR ANALYSING \"SPENDING\"\n",
    "#amount spent for post = 0\n",
    "# we can see that people from post = 0 spend between 1000 to 9000.\n",
    "# Also, men participation is more than the women.\n",
    "# Most people are spending amount between 4000 to 5000.\n",
    "\n",
    "post0 = df[df['Post']==0]\n",
    "post0\n",
    "\n",
    "bin_start = 2000\n",
    "bin_end = 10000\n",
    "bin_width = 1000\n",
    "sns.histplot(data = post0, x = 'Spending', bins = range(bin_start, bin_end, bin_width), hue='Gender')"
   ]
  },
  {
   "cell_type": "code",
   "execution_count": 11,
   "id": "b97d63b9",
   "metadata": {},
   "outputs": [
    {
     "data": {
      "text/plain": [
       "<Axes: xlabel='Spending', ylabel='Count'>"
      ]
     },
     "execution_count": 11,
     "metadata": {},
     "output_type": "execute_result"
    },
    {
     "data": {
      "image/png": "[encoded data removed]",
      "text/plain": [
       "<Figure size 640x480 with 1 Axes>"
      ]
     },
     "metadata": {},
     "output_type": "display_data"
    }
   ],
   "source": [
    "#amount spent for post = 1\n",
    "# we can see that people from post = 1 spend between 1000 to 9000\n",
    "# Also, men participation is more than the women.\n",
    "# Most people are spending amount between 5000 to 6000.\n",
    "\n",
    "\n",
    "bin_start = 2000\n",
    "bin_end = 10000\n",
    "bin_width = 1000\n",
    "sns.histplot(data = post1, x = 'Spending', bins = range(bin_start, bin_end, bin_width), hue='Gender')"
   ]
  },
  {
   "cell_type": "code",
   "execution_count": 12,
   "id": "f3guHBeAfH1-",
   "metadata": {
    "id": "f3guHBeAfH1-"
   },
   "outputs": [
    {
     "data": {
      "text/plain": [
       "<Axes: xlabel='NumBookings', ylabel='Count'>"
      ]
     },
     "execution_count": 12,
     "metadata": {},
     "output_type": "execute_result"
    },
    {
     "data": {
      "image/png": "[encoded data removed]",
      "text/plain": [
       "<Figure size 640x480 with 1 Axes>"
      ]
     },
     "metadata": {},
     "output_type": "display_data"
    }
   ],
   "source": [
    "### WRITE CODE FOR ANALYSING \"NUMBOOKINGS\"\n",
    "#Analysis for post = 0\n",
    "bin_start = 0\n",
    "bin_end = 40\n",
    "bin_width = 5\n",
    "sns.histplot(data = post0, x = 'NumBookings', bins = range(bin_start, bin_end, bin_width))"
   ]
  },
  {
   "cell_type": "code",
   "execution_count": 13,
   "id": "b6196461",
   "metadata": {},
   "outputs": [
    {
     "data": {
      "text/plain": [
       "<Axes: xlabel='NumBookings', ylabel='Count'>"
      ]
     },
     "execution_count": 13,
     "metadata": {},
     "output_type": "execute_result"
    },
    {
     "data": {
      "image/png": "[encoded data removed]",
      "text/plain": [
       "<Figure size 640x480 with 1 Axes>"
      ]
     },
     "metadata": {},
     "output_type": "display_data"
    }
   ],
   "source": [
    "### WRITE CODE FOR ANALYSING \"NUMBOOKINGS\"\n",
    "# Most of customer have done bokings betwen 15 to 25 times.\n",
    "# Average number of bookings have gone up after app installation\n",
    "\n",
    "#Analysis for post = 1\n",
    "bin_start = 0\n",
    "bin_end = 40\n",
    "bin_width = 5\n",
    "sns.histplot(data = post1, x = 'NumBookings', bins = range(bin_start, bin_end, bin_width))"
   ]
  },
  {
   "cell_type": "markdown",
   "id": "030970db",
   "metadata": {
    "id": "030970db"
   },
   "source": [
    "***Multivariate Analysis:***\n",
    "\n",
    "   - Construct relevant pivot tables, bar charts, and scatterplots to get a preliminary understanding of the relationship between customers’ characteristics and their purchase behavior. (Generally, bar charts are more informative in the case of categorical variables [e.g., the average of Spending broken up by Gender], while scatterplots convey more information in the case of numerical variables [e.g., Spending versus Age])"
   ]
  },
  {
   "cell_type": "code",
   "execution_count": null,
   "id": "PXN-aDvQfclL",
   "metadata": {
    "id": "PXN-aDvQfclL"
   },
   "outputs": [],
   "source": [
    "### In this section, you are free to choose the variables you want to analyse and the number of analyses you want to perform.\n",
    "### For example, you can peform the following analyses.\n",
    "\n",
    "### Analyze the relationship Spending and Gender.\n",
    "### Analyze the relationship between Spending and Age.\n",
    "### Analyze the relationship between Spending and Loyalty.\n",
    "### .... and so on.\n",
    "\n",
    "### As suggested before, you are free to choose the variables for analysis.\n",
    "### Also, you're free to use the necessary tools (either pivot tables or visualizations or both) to perform the analyses\n",
    "### However, make sure that you analyze the patterns for Spending and Number of Bookings against minimum 3 customer characteristics"
   ]
  },
  {
   "cell_type": "code",
   "execution_count": 13,
   "id": "213674ba",
   "metadata": {},
   "outputs": [
    {
     "data": {
      "text/html": [
       "<div>\n",
       "<style scoped>\n",
       "    .dataframe tbody tr th:only-of-type {\n",
       "        vertical-align: middle;\n",
       "    }\n",
       "\n",
       "    .dataframe tbody tr th {\n",
       "        vertical-align: top;\n",
       "    }\n",
       "\n",
       "    .dataframe thead th {\n",
       "        text-align: right;\n",
       "    }\n",
       "</style>\n",
       "<table border=\"1\" class=\"dataframe\">\n",
       "  <thead>\n",
       "    <tr style=\"text-align: right;\">\n",
       "      <th></th>\n",
       "      <th>CustomerID</th>\n",
       "      <th>Adopt</th>\n",
       "      <th>Gender</th>\n",
       "      <th>Age</th>\n",
       "      <th>Nationality</th>\n",
       "      <th>Loyalty</th>\n",
       "      <th>Tenure</th>\n",
       "      <th>Post</th>\n",
       "      <th>NumBookings</th>\n",
       "      <th>Spending</th>\n",
       "    </tr>\n",
       "  </thead>\n",
       "  <tbody>\n",
       "    <tr>\n",
       "      <th>1000</th>\n",
       "      <td>1001</td>\n",
       "      <td>1</td>\n",
       "      <td>Male</td>\n",
       "      <td>34</td>\n",
       "      <td>1</td>\n",
       "      <td>2</td>\n",
       "      <td>57</td>\n",
       "      <td>0</td>\n",
       "      <td>14</td>\n",
       "      <td>3976</td>\n",
       "    </tr>\n",
       "    <tr>\n",
       "      <th>1001</th>\n",
       "      <td>1002</td>\n",
       "      <td>1</td>\n",
       "      <td>Female</td>\n",
       "      <td>36</td>\n",
       "      <td>1</td>\n",
       "      <td>2</td>\n",
       "      <td>5</td>\n",
       "      <td>0</td>\n",
       "      <td>5</td>\n",
       "      <td>1455</td>\n",
       "    </tr>\n",
       "    <tr>\n",
       "      <th>1002</th>\n",
       "      <td>1003</td>\n",
       "      <td>1</td>\n",
       "      <td>Female</td>\n",
       "      <td>43</td>\n",
       "      <td>1</td>\n",
       "      <td>1</td>\n",
       "      <td>12</td>\n",
       "      <td>0</td>\n",
       "      <td>6</td>\n",
       "      <td>1656</td>\n",
       "    </tr>\n",
       "    <tr>\n",
       "      <th>1003</th>\n",
       "      <td>1004</td>\n",
       "      <td>1</td>\n",
       "      <td>Male</td>\n",
       "      <td>47</td>\n",
       "      <td>1</td>\n",
       "      <td>1</td>\n",
       "      <td>70</td>\n",
       "      <td>0</td>\n",
       "      <td>18</td>\n",
       "      <td>5148</td>\n",
       "    </tr>\n",
       "    <tr>\n",
       "      <th>1004</th>\n",
       "      <td>1005</td>\n",
       "      <td>1</td>\n",
       "      <td>Male</td>\n",
       "      <td>41</td>\n",
       "      <td>1</td>\n",
       "      <td>2</td>\n",
       "      <td>13</td>\n",
       "      <td>0</td>\n",
       "      <td>6</td>\n",
       "      <td>1782</td>\n",
       "    </tr>\n",
       "    <tr>\n",
       "      <th>...</th>\n",
       "      <td>...</td>\n",
       "      <td>...</td>\n",
       "      <td>...</td>\n",
       "      <td>...</td>\n",
       "      <td>...</td>\n",
       "      <td>...</td>\n",
       "      <td>...</td>\n",
       "      <td>...</td>\n",
       "      <td>...</td>\n",
       "      <td>...</td>\n",
       "    </tr>\n",
       "    <tr>\n",
       "      <th>1995</th>\n",
       "      <td>1996</td>\n",
       "      <td>1</td>\n",
       "      <td>Male</td>\n",
       "      <td>47</td>\n",
       "      <td>1</td>\n",
       "      <td>1</td>\n",
       "      <td>74</td>\n",
       "      <td>0</td>\n",
       "      <td>20</td>\n",
       "      <td>5900</td>\n",
       "    </tr>\n",
       "    <tr>\n",
       "      <th>1996</th>\n",
       "      <td>1997</td>\n",
       "      <td>1</td>\n",
       "      <td>Female</td>\n",
       "      <td>42</td>\n",
       "      <td>1</td>\n",
       "      <td>1</td>\n",
       "      <td>47</td>\n",
       "      <td>0</td>\n",
       "      <td>13</td>\n",
       "      <td>4303</td>\n",
       "    </tr>\n",
       "    <tr>\n",
       "      <th>1997</th>\n",
       "      <td>1998</td>\n",
       "      <td>1</td>\n",
       "      <td>Male</td>\n",
       "      <td>42</td>\n",
       "      <td>1</td>\n",
       "      <td>1</td>\n",
       "      <td>89</td>\n",
       "      <td>0</td>\n",
       "      <td>21</td>\n",
       "      <td>6804</td>\n",
       "    </tr>\n",
       "    <tr>\n",
       "      <th>1998</th>\n",
       "      <td>1999</td>\n",
       "      <td>1</td>\n",
       "      <td>Female</td>\n",
       "      <td>49</td>\n",
       "      <td>0</td>\n",
       "      <td>2</td>\n",
       "      <td>74</td>\n",
       "      <td>0</td>\n",
       "      <td>19</td>\n",
       "      <td>5206</td>\n",
       "    </tr>\n",
       "    <tr>\n",
       "      <th>1999</th>\n",
       "      <td>2000</td>\n",
       "      <td>1</td>\n",
       "      <td>Male</td>\n",
       "      <td>41</td>\n",
       "      <td>1</td>\n",
       "      <td>1</td>\n",
       "      <td>75</td>\n",
       "      <td>0</td>\n",
       "      <td>17</td>\n",
       "      <td>5083</td>\n",
       "    </tr>\n",
       "  </tbody>\n",
       "</table>\n",
       "<p>1000 rows × 10 columns</p>\n",
       "</div>"
      ],
      "text/plain": [
       "      CustomerID  Adopt  Gender  Age  Nationality  Loyalty  Tenure  Post  \\\n",
       "1000        1001      1    Male   34            1        2      57     0   \n",
       "1001        1002      1  Female   36            1        2       5     0   \n",
       "1002        1003      1  Female   43            1        1      12     0   \n",
       "1003        1004      1    Male   47            1        1      70     0   \n",
       "1004        1005      1    Male   41            1        2      13     0   \n",
       "...          ...    ...     ...  ...          ...      ...     ...   ...   \n",
       "1995        1996      1    Male   47            1        1      74     0   \n",
       "1996        1997      1  Female   42            1        1      47     0   \n",
       "1997        1998      1    Male   42            1        1      89     0   \n",
       "1998        1999      1  Female   49            0        2      74     0   \n",
       "1999        2000      1    Male   41            1        1      75     0   \n",
       "\n",
       "      NumBookings  Spending  \n",
       "1000           14      3976  \n",
       "1001            5      1455  \n",
       "1002            6      1656  \n",
       "1003           18      5148  \n",
       "1004            6      1782  \n",
       "...           ...       ...  \n",
       "1995           20      5900  \n",
       "1996           13      4303  \n",
       "1997           21      6804  \n",
       "1998           19      5206  \n",
       "1999           17      5083  \n",
       "\n",
       "[1000 rows x 10 columns]"
      ]
     },
     "execution_count": 13,
     "metadata": {},
     "output_type": "execute_result"
    }
   ],
   "source": [
    "#code for subsetting people from adopt group before they adotped app\n",
    "\n",
    "app_adopter_before = df[(df['Adopt'] == 1) & (df['Post'] == 0)]\n",
    "app_adopter_before "
   ]
  },
  {
   "cell_type": "code",
   "execution_count": 14,
   "id": "533071f4",
   "metadata": {},
   "outputs": [
    {
     "data": {
      "text/plain": [
       "<Axes: xlabel='Gender', ylabel='Spending'>"
      ]
     },
     "execution_count": 14,
     "metadata": {},
     "output_type": "execute_result"
    },
    {
     "data": {
      "image/png": "[encoded data removed]",
      "text/plain": [
       "<Figure size 640x480 with 1 Axes>"
      ]
     },
     "metadata": {},
     "output_type": "display_data"
    }
   ],
   "source": [
    "# code for analysing gender vs spending in adopt group before they adotped app\n",
    "# we can observe that men spend slightly more than woman\n",
    "sns.barplot(data = app_adopter_before, x = 'Gender', y = 'Spending',ci = None)"
   ]
  },
  {
   "cell_type": "code",
   "execution_count": 15,
   "id": "db861408",
   "metadata": {},
   "outputs": [
    {
     "data": {
      "text/html": [
       "<div>\n",
       "<style scoped>\n",
       "    .dataframe tbody tr th:only-of-type {\n",
       "        vertical-align: middle;\n",
       "    }\n",
       "\n",
       "    .dataframe tbody tr th {\n",
       "        vertical-align: top;\n",
       "    }\n",
       "\n",
       "    .dataframe thead th {\n",
       "        text-align: right;\n",
       "    }\n",
       "</style>\n",
       "<table border=\"1\" class=\"dataframe\">\n",
       "  <thead>\n",
       "    <tr style=\"text-align: right;\">\n",
       "      <th></th>\n",
       "      <th>CustomerID</th>\n",
       "      <th>Adopt</th>\n",
       "      <th>Gender</th>\n",
       "      <th>Age</th>\n",
       "      <th>Nationality</th>\n",
       "      <th>Loyalty</th>\n",
       "      <th>Tenure</th>\n",
       "      <th>Post</th>\n",
       "      <th>NumBookings</th>\n",
       "      <th>Spending</th>\n",
       "    </tr>\n",
       "  </thead>\n",
       "  <tbody>\n",
       "    <tr>\n",
       "      <th>0</th>\n",
       "      <td>1001</td>\n",
       "      <td>1</td>\n",
       "      <td>Male</td>\n",
       "      <td>34</td>\n",
       "      <td>1</td>\n",
       "      <td>2</td>\n",
       "      <td>57</td>\n",
       "      <td>1</td>\n",
       "      <td>18</td>\n",
       "      <td>5760</td>\n",
       "    </tr>\n",
       "    <tr>\n",
       "      <th>1</th>\n",
       "      <td>1002</td>\n",
       "      <td>1</td>\n",
       "      <td>Female</td>\n",
       "      <td>36</td>\n",
       "      <td>1</td>\n",
       "      <td>2</td>\n",
       "      <td>5</td>\n",
       "      <td>1</td>\n",
       "      <td>6</td>\n",
       "      <td>1830</td>\n",
       "    </tr>\n",
       "    <tr>\n",
       "      <th>2</th>\n",
       "      <td>1003</td>\n",
       "      <td>1</td>\n",
       "      <td>Female</td>\n",
       "      <td>43</td>\n",
       "      <td>1</td>\n",
       "      <td>1</td>\n",
       "      <td>12</td>\n",
       "      <td>1</td>\n",
       "      <td>9</td>\n",
       "      <td>2682</td>\n",
       "    </tr>\n",
       "    <tr>\n",
       "      <th>3</th>\n",
       "      <td>1004</td>\n",
       "      <td>1</td>\n",
       "      <td>Male</td>\n",
       "      <td>47</td>\n",
       "      <td>1</td>\n",
       "      <td>1</td>\n",
       "      <td>70</td>\n",
       "      <td>1</td>\n",
       "      <td>21</td>\n",
       "      <td>6846</td>\n",
       "    </tr>\n",
       "    <tr>\n",
       "      <th>4</th>\n",
       "      <td>1005</td>\n",
       "      <td>1</td>\n",
       "      <td>Male</td>\n",
       "      <td>41</td>\n",
       "      <td>1</td>\n",
       "      <td>2</td>\n",
       "      <td>13</td>\n",
       "      <td>1</td>\n",
       "      <td>11</td>\n",
       "      <td>3377</td>\n",
       "    </tr>\n",
       "    <tr>\n",
       "      <th>...</th>\n",
       "      <td>...</td>\n",
       "      <td>...</td>\n",
       "      <td>...</td>\n",
       "      <td>...</td>\n",
       "      <td>...</td>\n",
       "      <td>...</td>\n",
       "      <td>...</td>\n",
       "      <td>...</td>\n",
       "      <td>...</td>\n",
       "      <td>...</td>\n",
       "    </tr>\n",
       "    <tr>\n",
       "      <th>995</th>\n",
       "      <td>1996</td>\n",
       "      <td>1</td>\n",
       "      <td>Male</td>\n",
       "      <td>47</td>\n",
       "      <td>1</td>\n",
       "      <td>1</td>\n",
       "      <td>74</td>\n",
       "      <td>1</td>\n",
       "      <td>21</td>\n",
       "      <td>6678</td>\n",
       "    </tr>\n",
       "    <tr>\n",
       "      <th>996</th>\n",
       "      <td>1997</td>\n",
       "      <td>1</td>\n",
       "      <td>Female</td>\n",
       "      <td>42</td>\n",
       "      <td>1</td>\n",
       "      <td>1</td>\n",
       "      <td>47</td>\n",
       "      <td>1</td>\n",
       "      <td>15</td>\n",
       "      <td>4515</td>\n",
       "    </tr>\n",
       "    <tr>\n",
       "      <th>997</th>\n",
       "      <td>1998</td>\n",
       "      <td>1</td>\n",
       "      <td>Male</td>\n",
       "      <td>42</td>\n",
       "      <td>1</td>\n",
       "      <td>1</td>\n",
       "      <td>89</td>\n",
       "      <td>1</td>\n",
       "      <td>25</td>\n",
       "      <td>8750</td>\n",
       "    </tr>\n",
       "    <tr>\n",
       "      <th>998</th>\n",
       "      <td>1999</td>\n",
       "      <td>1</td>\n",
       "      <td>Female</td>\n",
       "      <td>49</td>\n",
       "      <td>0</td>\n",
       "      <td>2</td>\n",
       "      <td>74</td>\n",
       "      <td>1</td>\n",
       "      <td>23</td>\n",
       "      <td>6923</td>\n",
       "    </tr>\n",
       "    <tr>\n",
       "      <th>999</th>\n",
       "      <td>2000</td>\n",
       "      <td>1</td>\n",
       "      <td>Male</td>\n",
       "      <td>41</td>\n",
       "      <td>1</td>\n",
       "      <td>1</td>\n",
       "      <td>75</td>\n",
       "      <td>1</td>\n",
       "      <td>22</td>\n",
       "      <td>6820</td>\n",
       "    </tr>\n",
       "  </tbody>\n",
       "</table>\n",
       "<p>1000 rows × 10 columns</p>\n",
       "</div>"
      ],
      "text/plain": [
       "     CustomerID  Adopt  Gender  Age  Nationality  Loyalty  Tenure  Post  \\\n",
       "0          1001      1    Male   34            1        2      57     1   \n",
       "1          1002      1  Female   36            1        2       5     1   \n",
       "2          1003      1  Female   43            1        1      12     1   \n",
       "3          1004      1    Male   47            1        1      70     1   \n",
       "4          1005      1    Male   41            1        2      13     1   \n",
       "..          ...    ...     ...  ...          ...      ...     ...   ...   \n",
       "995        1996      1    Male   47            1        1      74     1   \n",
       "996        1997      1  Female   42            1        1      47     1   \n",
       "997        1998      1    Male   42            1        1      89     1   \n",
       "998        1999      1  Female   49            0        2      74     1   \n",
       "999        2000      1    Male   41            1        1      75     1   \n",
       "\n",
       "     NumBookings  Spending  \n",
       "0             18      5760  \n",
       "1              6      1830  \n",
       "2              9      2682  \n",
       "3             21      6846  \n",
       "4             11      3377  \n",
       "..           ...       ...  \n",
       "995           21      6678  \n",
       "996           15      4515  \n",
       "997           25      8750  \n",
       "998           23      6923  \n",
       "999           22      6820  \n",
       "\n",
       "[1000 rows x 10 columns]"
      ]
     },
     "execution_count": 15,
     "metadata": {},
     "output_type": "execute_result"
    }
   ],
   "source": [
    "#code for subsetting people from adopt group after they adotped app\n",
    "\n",
    "app_adopter_after = df[(df['Adopt'] == 1) & (df['Post'] == 1)]\n",
    "app_adopter_after "
   ]
  },
  {
   "cell_type": "code",
   "execution_count": 16,
   "id": "57f90127",
   "metadata": {},
   "outputs": [
    {
     "data": {
      "text/plain": [
       "<Axes: xlabel='Gender', ylabel='Spending'>"
      ]
     },
     "execution_count": 16,
     "metadata": {},
     "output_type": "execute_result"
    },
    {
     "data": {
      "image/png": "[encoded data removed]",
      "text/plain": [
       "<Figure size 640x480 with 1 Axes>"
      ]
     },
     "metadata": {},
     "output_type": "display_data"
    }
   ],
   "source": [
    "# code for analysing gender vs spending in adopt group after they adotped app\n",
    "# we can observe that men spend slightly more than woman and that after installing the app spending grew on 1000$\n",
    "\n",
    "sns.barplot(data = app_adopter_after, x = 'Gender', y = 'Spending', ci = None )"
   ]
  },
  {
   "cell_type": "code",
   "execution_count": 17,
   "id": "a9aed829",
   "metadata": {},
   "outputs": [
    {
     "data": {
      "text/plain": [
       "<Axes: xlabel='Age', ylabel='Spending'>"
      ]
     },
     "execution_count": 17,
     "metadata": {},
     "output_type": "execute_result"
    },
    {
     "data": {
      "image/png": "[encoded data removed]",
      "text/plain": [
       "<Figure size 640x480 with 1 Axes>"
      ]
     },
     "metadata": {},
     "output_type": "display_data"
    }
   ],
   "source": [
    "#analysis between spending and age for adopt group before they adotped app\n",
    "#we can observe that majority of people who spend more money are aproximately between 40 and 50 years old\n",
    "#sns.set_style(style = 'whitegrid')\n",
    "sns.scatterplot( data = app_adopter_before, x = 'Age', y = 'Spending', cmap = 'Blues')\n",
    "\n"
   ]
  },
  {
   "cell_type": "code",
   "execution_count": 18,
   "id": "8e276743",
   "metadata": {},
   "outputs": [
    {
     "data": {
      "text/plain": [
       "<Axes: xlabel='Age', ylabel='Spending'>"
      ]
     },
     "execution_count": 18,
     "metadata": {},
     "output_type": "execute_result"
    },
    {
     "data": {
      "image/png": "[encoded data removed]",
      "text/plain": [
       "<Figure size 640x480 with 1 Axes>"
      ]
     },
     "metadata": {},
     "output_type": "display_data"
    }
   ],
   "source": [
    "#analysis between spending and age for adopt group after they adotped app\n",
    "#we can observe that majority of people who spend more money are also aproximately between 40 and 50 years old\n",
    "sns.set_style(style = 'whitegrid')\n",
    "sns.scatterplot( data = app_adopter_after, x = 'Age',  y = 'Spending',  cmap = 'Blues')"
   ]
  },
  {
   "cell_type": "code",
   "execution_count": 19,
   "id": "28e78e21",
   "metadata": {},
   "outputs": [
    {
     "data": {
      "text/plain": [
       "<Axes: xlabel='Loyalty', ylabel='Spending'>"
      ]
     },
     "execution_count": 19,
     "metadata": {},
     "output_type": "execute_result"
    },
    {
     "data": {
      "image/png": "[encoded data removed]",
      "text/plain": [
       "<Figure size 640x480 with 1 Axes>"
      ]
     },
     "metadata": {},
     "output_type": "display_data"
    }
   ],
   "source": [
    "### Analyze the relationship between Spending and Loyalty.\n",
    "\n",
    "#From this visualisation we can see that people who belong to loyalty group 4(platinum membership) spend most of all\n",
    "#and people who belong to loyalty group 1(basic membership) spend the least\n",
    "sns.barplot( data = app_adopter_before, x = 'Loyalty', y = 'Spending', ci=None)"
   ]
  },
  {
   "cell_type": "code",
   "execution_count": 20,
   "id": "c5343495",
   "metadata": {},
   "outputs": [
    {
     "data": {
      "text/plain": [
       "<Axes: xlabel='Loyalty', ylabel='Spending'>"
      ]
     },
     "execution_count": 20,
     "metadata": {},
     "output_type": "execute_result"
    },
    {
     "data": {
      "image/png": "[encoded data removed]",
      "text/plain": [
       "<Figure size 640x480 with 1 Axes>"
      ]
     },
     "metadata": {},
     "output_type": "display_data"
    }
   ],
   "source": [
    "### Analyze the relationship between Spending and Loyalty.\n",
    "\n",
    "#analysis between spending and loyalty for adopt group after they adotped app\n",
    "#frrom this visualisation we can see that spendings grew on average 1000 for people with loyalty category 4(platinum)and they \n",
    "#still spend the most \n",
    "\n",
    "sns.barplot( data = app_adopter_after, x = 'Loyalty', y = 'Spending', ci=None)"
   ]
  },
  {
   "cell_type": "markdown",
   "id": "4a0e4af0",
   "metadata": {
    "id": "4a0e4af0"
   },
   "source": [
    "- Generate a table of the correlations of all numerical variables of the data set.\n",
    "\n"
   ]
  },
  {
   "cell_type": "code",
   "execution_count": 21,
   "id": "b400b1fd",
   "metadata": {},
   "outputs": [
    {
     "data": {
      "text/plain": [
       "<Axes: xlabel='Gender', ylabel='NumBookings'>"
      ]
     },
     "execution_count": 21,
     "metadata": {},
     "output_type": "execute_result"
    },
    {
     "data": {
      "image/png": "[encoded data removed]",
      "text/plain": [
       "<Figure size 640x480 with 1 Axes>"
      ]
     },
     "metadata": {},
     "output_type": "display_data"
    }
   ],
   "source": [
    "#Analyze the relationship between Number of bookings and Gender.\n",
    "\n",
    "#we can observe that men do more bookings\n",
    "sns.barplot( data = app_adopter_before, x = 'Gender', y = 'NumBookings', estimator = 'mean', ci=None)"
   ]
  },
  {
   "cell_type": "code",
   "execution_count": 22,
   "id": "324b6007",
   "metadata": {},
   "outputs": [
    {
     "data": {
      "text/plain": [
       "<Axes: xlabel='Gender', ylabel='NumBookings'>"
      ]
     },
     "execution_count": 22,
     "metadata": {},
     "output_type": "execute_result"
    },
    {
     "data": {
      "image/png": "[encoded data removed]",
      "text/plain": [
       "<Figure size 640x480 with 1 Axes>"
      ]
     },
     "metadata": {},
     "output_type": "display_data"
    }
   ],
   "source": [
    "#Analyze the relationship between Number of bookings and Gender.\n",
    "\n",
    "#we can observe that men do more bookings\n",
    "sns.barplot( data = app_adopter_after, x = 'Gender', y = 'NumBookings', estimator = 'mean', ci=None)"
   ]
  },
  {
   "cell_type": "code",
   "execution_count": 23,
   "id": "95f45250",
   "metadata": {},
   "outputs": [
    {
     "data": {
      "text/plain": [
       "<Axes: xlabel='Nationality', ylabel='NumBookings'>"
      ]
     },
     "execution_count": 23,
     "metadata": {},
     "output_type": "execute_result"
    },
    {
     "data": {
      "image/png": "[encoded data removed]",
      "text/plain": [
       "<Figure size 640x480 with 1 Axes>"
      ]
     },
     "metadata": {},
     "output_type": "display_data"
    }
   ],
   "source": [
    "#Analysis for Number of bookings and Nationality\n",
    "\n",
    "#from this observation we can see that Us citizens make more bookings\n",
    "sns.barplot(data = app_adopter_before, x = 'Nationality' , y = 'NumBookings', estimator = 'mean', ci = None)"
   ]
  },
  {
   "cell_type": "code",
   "execution_count": 24,
   "id": "50b670b5",
   "metadata": {},
   "outputs": [
    {
     "data": {
      "text/plain": [
       "<Axes: xlabel='Nationality', ylabel='NumBookings'>"
      ]
     },
     "execution_count": 24,
     "metadata": {},
     "output_type": "execute_result"
    },
    {
     "data": {
      "image/png": "[encoded data removed]",
      "text/plain": [
       "<Figure size 640x480 with 1 Axes>"
      ]
     },
     "metadata": {},
     "output_type": "display_data"
    }
   ],
   "source": [
    "#Analysis for Number of bookings and Nationality\n",
    "\n",
    "#from this observation we can see that Us citizens make more bookings\n",
    "sns.barplot(data = app_adopter_after, x = 'Nationality' , y = 'NumBookings', estimator = 'mean', ci = None)"
   ]
  },
  {
   "cell_type": "code",
   "execution_count": null,
   "id": "dxg6s44Wgr4g",
   "metadata": {
    "id": "dxg6s44Wgr4g"
   },
   "outputs": [],
   "source": [
    "### Subset the dataframe to only include the numerical variables\n",
    "### After that you can create a correlation matrix.\n",
    "### If you want, you can also build a HeatMap, but it's optional."
   ]
  },
  {
   "cell_type": "code",
   "execution_count": 26,
   "id": "b087dfee",
   "metadata": {},
   "outputs": [
    {
     "data": {
      "text/html": [
       "<div>\n",
       "<style scoped>\n",
       "    .dataframe tbody tr th:only-of-type {\n",
       "        vertical-align: middle;\n",
       "    }\n",
       "\n",
       "    .dataframe tbody tr th {\n",
       "        vertical-align: top;\n",
       "    }\n",
       "\n",
       "    .dataframe thead th {\n",
       "        text-align: right;\n",
       "    }\n",
       "</style>\n",
       "<table border=\"1\" class=\"dataframe\">\n",
       "  <thead>\n",
       "    <tr style=\"text-align: right;\">\n",
       "      <th></th>\n",
       "      <th>Age</th>\n",
       "      <th>Nationality</th>\n",
       "      <th>Loyalty</th>\n",
       "      <th>Tenure</th>\n",
       "      <th>Post</th>\n",
       "      <th>NumBookings</th>\n",
       "    </tr>\n",
       "  </thead>\n",
       "  <tbody>\n",
       "    <tr>\n",
       "      <th>0</th>\n",
       "      <td>34</td>\n",
       "      <td>1</td>\n",
       "      <td>2</td>\n",
       "      <td>57</td>\n",
       "      <td>1</td>\n",
       "      <td>18</td>\n",
       "    </tr>\n",
       "    <tr>\n",
       "      <th>1</th>\n",
       "      <td>36</td>\n",
       "      <td>1</td>\n",
       "      <td>2</td>\n",
       "      <td>5</td>\n",
       "      <td>1</td>\n",
       "      <td>6</td>\n",
       "    </tr>\n",
       "    <tr>\n",
       "      <th>2</th>\n",
       "      <td>43</td>\n",
       "      <td>1</td>\n",
       "      <td>1</td>\n",
       "      <td>12</td>\n",
       "      <td>1</td>\n",
       "      <td>9</td>\n",
       "    </tr>\n",
       "    <tr>\n",
       "      <th>3</th>\n",
       "      <td>47</td>\n",
       "      <td>1</td>\n",
       "      <td>1</td>\n",
       "      <td>70</td>\n",
       "      <td>1</td>\n",
       "      <td>21</td>\n",
       "    </tr>\n",
       "    <tr>\n",
       "      <th>4</th>\n",
       "      <td>41</td>\n",
       "      <td>1</td>\n",
       "      <td>2</td>\n",
       "      <td>13</td>\n",
       "      <td>1</td>\n",
       "      <td>11</td>\n",
       "    </tr>\n",
       "    <tr>\n",
       "      <th>...</th>\n",
       "      <td>...</td>\n",
       "      <td>...</td>\n",
       "      <td>...</td>\n",
       "      <td>...</td>\n",
       "      <td>...</td>\n",
       "      <td>...</td>\n",
       "    </tr>\n",
       "    <tr>\n",
       "      <th>1995</th>\n",
       "      <td>47</td>\n",
       "      <td>1</td>\n",
       "      <td>1</td>\n",
       "      <td>74</td>\n",
       "      <td>0</td>\n",
       "      <td>20</td>\n",
       "    </tr>\n",
       "    <tr>\n",
       "      <th>1996</th>\n",
       "      <td>42</td>\n",
       "      <td>1</td>\n",
       "      <td>1</td>\n",
       "      <td>47</td>\n",
       "      <td>0</td>\n",
       "      <td>13</td>\n",
       "    </tr>\n",
       "    <tr>\n",
       "      <th>1997</th>\n",
       "      <td>42</td>\n",
       "      <td>1</td>\n",
       "      <td>1</td>\n",
       "      <td>89</td>\n",
       "      <td>0</td>\n",
       "      <td>21</td>\n",
       "    </tr>\n",
       "    <tr>\n",
       "      <th>1998</th>\n",
       "      <td>49</td>\n",
       "      <td>0</td>\n",
       "      <td>2</td>\n",
       "      <td>74</td>\n",
       "      <td>0</td>\n",
       "      <td>19</td>\n",
       "    </tr>\n",
       "    <tr>\n",
       "      <th>1999</th>\n",
       "      <td>41</td>\n",
       "      <td>1</td>\n",
       "      <td>1</td>\n",
       "      <td>75</td>\n",
       "      <td>0</td>\n",
       "      <td>17</td>\n",
       "    </tr>\n",
       "  </tbody>\n",
       "</table>\n",
       "<p>2000 rows × 6 columns</p>\n",
       "</div>"
      ],
      "text/plain": [
       "      Age  Nationality  Loyalty  Tenure  Post  NumBookings\n",
       "0      34            1        2      57     1           18\n",
       "1      36            1        2       5     1            6\n",
       "2      43            1        1      12     1            9\n",
       "3      47            1        1      70     1           21\n",
       "4      41            1        2      13     1           11\n",
       "...   ...          ...      ...     ...   ...          ...\n",
       "1995   47            1        1      74     0           20\n",
       "1996   42            1        1      47     0           13\n",
       "1997   42            1        1      89     0           21\n",
       "1998   49            0        2      74     0           19\n",
       "1999   41            1        1      75     0           17\n",
       "\n",
       "[2000 rows x 6 columns]"
      ]
     },
     "execution_count": 26,
     "metadata": {},
     "output_type": "execute_result"
    }
   ],
   "source": [
    "### Subset the dataframe to only include the numerical variables\n",
    "\n",
    "all_app_adopter = df[(df['Adopt'] == 1)]\n",
    "num_var_df = all_app_adopter.loc[0:,['Age', 'Nationality','Loyalty','Tenure','Post','NumBookings']]\n",
    "num_var_df\n"
   ]
  },
  {
   "cell_type": "code",
   "execution_count": 27,
   "id": "ed119660",
   "metadata": {},
   "outputs": [
    {
     "data": {
      "text/html": [
       "<div>\n",
       "<style scoped>\n",
       "    .dataframe tbody tr th:only-of-type {\n",
       "        vertical-align: middle;\n",
       "    }\n",
       "\n",
       "    .dataframe tbody tr th {\n",
       "        vertical-align: top;\n",
       "    }\n",
       "\n",
       "    .dataframe thead th {\n",
       "        text-align: right;\n",
       "    }\n",
       "</style>\n",
       "<table border=\"1\" class=\"dataframe\">\n",
       "  <thead>\n",
       "    <tr style=\"text-align: right;\">\n",
       "      <th></th>\n",
       "      <th>Age</th>\n",
       "      <th>Nationality</th>\n",
       "      <th>Loyalty</th>\n",
       "      <th>Tenure</th>\n",
       "      <th>Post</th>\n",
       "      <th>NumBookings</th>\n",
       "    </tr>\n",
       "  </thead>\n",
       "  <tbody>\n",
       "    <tr>\n",
       "      <th>Age</th>\n",
       "      <td>1.000000e+00</td>\n",
       "      <td>4.733655e-02</td>\n",
       "      <td>5.728778e-03</td>\n",
       "      <td>1.216032e-03</td>\n",
       "      <td>3.548393e-15</td>\n",
       "      <td>0.159808</td>\n",
       "    </tr>\n",
       "    <tr>\n",
       "      <th>Nationality</th>\n",
       "      <td>4.733655e-02</td>\n",
       "      <td>1.000000e+00</td>\n",
       "      <td>-1.171148e-02</td>\n",
       "      <td>-2.279435e-02</td>\n",
       "      <td>9.315585e-16</td>\n",
       "      <td>0.019424</td>\n",
       "    </tr>\n",
       "    <tr>\n",
       "      <th>Loyalty</th>\n",
       "      <td>5.728778e-03</td>\n",
       "      <td>-1.171148e-02</td>\n",
       "      <td>1.000000e+00</td>\n",
       "      <td>-4.515351e-02</td>\n",
       "      <td>-2.652272e-16</td>\n",
       "      <td>0.148413</td>\n",
       "    </tr>\n",
       "    <tr>\n",
       "      <th>Tenure</th>\n",
       "      <td>1.216032e-03</td>\n",
       "      <td>-2.279435e-02</td>\n",
       "      <td>-4.515351e-02</td>\n",
       "      <td>1.000000e+00</td>\n",
       "      <td>-5.451876e-16</td>\n",
       "      <td>0.914056</td>\n",
       "    </tr>\n",
       "    <tr>\n",
       "      <th>Post</th>\n",
       "      <td>3.548393e-15</td>\n",
       "      <td>9.315585e-16</td>\n",
       "      <td>-2.652272e-16</td>\n",
       "      <td>-5.451876e-16</td>\n",
       "      <td>1.000000e+00</td>\n",
       "      <td>0.275906</td>\n",
       "    </tr>\n",
       "    <tr>\n",
       "      <th>NumBookings</th>\n",
       "      <td>1.598082e-01</td>\n",
       "      <td>1.942441e-02</td>\n",
       "      <td>1.484130e-01</td>\n",
       "      <td>9.140562e-01</td>\n",
       "      <td>2.759060e-01</td>\n",
       "      <td>1.000000</td>\n",
       "    </tr>\n",
       "  </tbody>\n",
       "</table>\n",
       "</div>"
      ],
      "text/plain": [
       "                      Age   Nationality       Loyalty        Tenure  \\\n",
       "Age          1.000000e+00  4.733655e-02  5.728778e-03  1.216032e-03   \n",
       "Nationality  4.733655e-02  1.000000e+00 -1.171148e-02 -2.279435e-02   \n",
       "Loyalty      5.728778e-03 -1.171148e-02  1.000000e+00 -4.515351e-02   \n",
       "Tenure       1.216032e-03 -2.279435e-02 -4.515351e-02  1.000000e+00   \n",
       "Post         3.548393e-15  9.315585e-16 -2.652272e-16 -5.451876e-16   \n",
       "NumBookings  1.598082e-01  1.942441e-02  1.484130e-01  9.140562e-01   \n",
       "\n",
       "                     Post  NumBookings  \n",
       "Age          3.548393e-15     0.159808  \n",
       "Nationality  9.315585e-16     0.019424  \n",
       "Loyalty     -2.652272e-16     0.148413  \n",
       "Tenure      -5.451876e-16     0.914056  \n",
       "Post         1.000000e+00     0.275906  \n",
       "NumBookings  2.759060e-01     1.000000  "
      ]
     },
     "execution_count": 27,
     "metadata": {},
     "output_type": "execute_result"
    }
   ],
   "source": [
    "corr_matrix = num_var_df.corr()\n",
    "corr_matrix"
   ]
  },
  {
   "cell_type": "code",
   "execution_count": 28,
   "id": "d051d895",
   "metadata": {},
   "outputs": [
    {
     "data": {
      "text/plain": [
       "<Axes: >"
      ]
     },
     "execution_count": 28,
     "metadata": {},
     "output_type": "execute_result"
    },
    {
     "data": {
      "image/png": "[encoded data removed]",
      "text/plain": [
       "<Figure size 640x480 with 2 Axes>"
      ]
     },
     "metadata": {},
     "output_type": "display_data"
    }
   ],
   "source": [
    "sns.heatmap(corr_matrix, annot=False, cmap = 'Greens')"
   ]
  },
  {
   "cell_type": "markdown",
   "id": "cmmudfrqgrFx",
   "metadata": {
    "id": "cmmudfrqgrFx"
   },
   "source": [
    " - Determine whether there is a statistically significant difference between the average spending of men and women (at a 5% significance level)? Conduct an appropriate hypothesis test to determine whether there is a difference in means. Please construct a 95% confidence interval for the difference in means. You may assume independent samples and constant variance. [Note: The above test is to be conducted for the entire data set]"
   ]
  },
  {
   "cell_type": "code",
   "execution_count": null,
   "id": "iy15iGTRguoP",
   "metadata": {
    "id": "iy15iGTRguoP"
   },
   "outputs": [],
   "source": [
    "### This task may seem intimidating at first.\n",
    "### However, using the ttest method pingouin package which you learned in the \"Designing Business Experiments\" module, you should be able to get all the results directly."
   ]
  },
  {
   "cell_type": "code",
   "execution_count": 29,
   "id": "8438083c",
   "metadata": {},
   "outputs": [
    {
     "name": "stdout",
     "output_type": "stream",
     "text": [
      "Requirement already satisfied: pingouin in c:\\dataanalyst\\lib\\site-packages (0.5.3)\n",
      "Requirement already satisfied: numpy>=1.19 in c:\\dataanalyst\\lib\\site-packages (from pingouin) (1.23.5)\n",
      "Requirement already satisfied: statsmodels>=0.13 in c:\\dataanalyst\\lib\\site-packages (from pingouin) (0.13.5)\n",
      "Requirement already satisfied: outdated in c:\\dataanalyst\\lib\\site-packages (from pingouin) (0.2.2)\n",
      "Requirement already satisfied: scikit-learn in c:\\dataanalyst\\lib\\site-packages (from pingouin) (1.2.1)\n",
      "Requirement already satisfied: seaborn>=0.11 in c:\\dataanalyst\\lib\\site-packages (from pingouin) (0.12.2)\n",
      "Requirement already satisfied: tabulate in c:\\dataanalyst\\lib\\site-packages (from pingouin) (0.8.10)\n",
      "Requirement already satisfied: matplotlib>=3.0.2 in c:\\dataanalyst\\lib\\site-packages (from pingouin) (3.7.0)\n",
      "Requirement already satisfied: pandas>=1.0 in c:\\dataanalyst\\lib\\site-packages (from pingouin) (1.5.3)\n",
      "Requirement already satisfied: scipy>=1.7 in c:\\dataanalyst\\lib\\site-packages (from pingouin) (1.10.0)\n",
      "Requirement already satisfied: pandas-flavor>=0.2.0 in c:\\dataanalyst\\lib\\site-packages (from pingouin) (0.6.0)\n",
      "Requirement already satisfied: pillow>=6.2.0 in c:\\dataanalyst\\lib\\site-packages (from matplotlib>=3.0.2->pingouin) (9.4.0)\n",
      "Requirement already satisfied: contourpy>=1.0.1 in c:\\dataanalyst\\lib\\site-packages (from matplotlib>=3.0.2->pingouin) (1.0.5)\n",
      "Requirement already satisfied: cycler>=0.10 in c:\\dataanalyst\\lib\\site-packages (from matplotlib>=3.0.2->pingouin) (0.11.0)\n",
      "Requirement already satisfied: packaging>=20.0 in c:\\dataanalyst\\lib\\site-packages (from matplotlib>=3.0.2->pingouin) (22.0)\n",
      "Requirement already satisfied: pyparsing>=2.3.1 in c:\\dataanalyst\\lib\\site-packages (from matplotlib>=3.0.2->pingouin) (3.0.9)\n",
      "Requirement already satisfied: kiwisolver>=1.0.1 in c:\\dataanalyst\\lib\\site-packages (from matplotlib>=3.0.2->pingouin) (1.4.4)\n",
      "Requirement already satisfied: fonttools>=4.22.0 in c:\\dataanalyst\\lib\\site-packages (from matplotlib>=3.0.2->pingouin) (4.25.0)\n",
      "Requirement already satisfied: python-dateutil>=2.7 in c:\\dataanalyst\\lib\\site-packages (from matplotlib>=3.0.2->pingouin) (2.8.2)\n",
      "Requirement already satisfied: pytz>=2020.1 in c:\\dataanalyst\\lib\\site-packages (from pandas>=1.0->pingouin) (2022.7)\n",
      "Requirement already satisfied: xarray in c:\\dataanalyst\\lib\\site-packages (from pandas-flavor>=0.2.0->pingouin) (2022.11.0)\n",
      "Requirement already satisfied: patsy>=0.5.2 in c:\\dataanalyst\\lib\\site-packages (from statsmodels>=0.13->pingouin) (0.5.3)\n",
      "Requirement already satisfied: setuptools>=44 in c:\\dataanalyst\\lib\\site-packages (from outdated->pingouin) (65.6.3)\n",
      "Requirement already satisfied: requests in c:\\dataanalyst\\lib\\site-packages (from outdated->pingouin) (2.28.1)\n",
      "Requirement already satisfied: littleutils in c:\\dataanalyst\\lib\\site-packages (from outdated->pingouin) (0.2.2)\n",
      "Requirement already satisfied: threadpoolctl>=2.0.0 in c:\\dataanalyst\\lib\\site-packages (from scikit-learn->pingouin) (2.2.0)\n",
      "Requirement already satisfied: joblib>=1.1.1 in c:\\dataanalyst\\lib\\site-packages (from scikit-learn->pingouin) (1.1.1)\n",
      "Requirement already satisfied: six in c:\\dataanalyst\\lib\\site-packages (from patsy>=0.5.2->statsmodels>=0.13->pingouin) (1.16.0)\n",
      "Requirement already satisfied: urllib3<1.27,>=1.21.1 in c:\\dataanalyst\\lib\\site-packages (from requests->outdated->pingouin) (1.26.14)\n",
      "Requirement already satisfied: charset-normalizer<3,>=2 in c:\\dataanalyst\\lib\\site-packages (from requests->outdated->pingouin) (2.0.4)\n",
      "Requirement already satisfied: certifi>=2017.4.17 in c:\\dataanalyst\\lib\\site-packages (from requests->outdated->pingouin) (2023.5.7)\n",
      "Requirement already satisfied: idna<4,>=2.5 in c:\\dataanalyst\\lib\\site-packages (from requests->outdated->pingouin) (3.4)\n"
     ]
    }
   ],
   "source": [
    "!pip install pingouin\n",
    "import pingouin as pg"
   ]
  },
  {
   "cell_type": "code",
   "execution_count": 30,
   "id": "b7513737",
   "metadata": {},
   "outputs": [],
   "source": [
    "\n",
    "#code for subsetting gender(based on entire dataset)\n",
    "subset_male = df[df['Gender']=='Male']\n",
    "subset_female = df[df['Gender']=='Female']"
   ]
  },
  {
   "cell_type": "code",
   "execution_count": 31,
   "id": "b9eb0523",
   "metadata": {},
   "outputs": [
    {
     "data": {
      "text/html": [
       "<div>\n",
       "<style scoped>\n",
       "    .dataframe tbody tr th:only-of-type {\n",
       "        vertical-align: middle;\n",
       "    }\n",
       "\n",
       "    .dataframe tbody tr th {\n",
       "        vertical-align: top;\n",
       "    }\n",
       "\n",
       "    .dataframe thead th {\n",
       "        text-align: right;\n",
       "    }\n",
       "</style>\n",
       "<table border=\"1\" class=\"dataframe\">\n",
       "  <thead>\n",
       "    <tr style=\"text-align: right;\">\n",
       "      <th></th>\n",
       "      <th>T</th>\n",
       "      <th>dof</th>\n",
       "      <th>alternative</th>\n",
       "      <th>p-val</th>\n",
       "      <th>CI95%</th>\n",
       "      <th>cohen-d</th>\n",
       "      <th>BF10</th>\n",
       "      <th>power</th>\n",
       "    </tr>\n",
       "  </thead>\n",
       "  <tbody>\n",
       "    <tr>\n",
       "      <th>T-test</th>\n",
       "      <td>2.396388</td>\n",
       "      <td>3199.526177</td>\n",
       "      <td>two-sided</td>\n",
       "      <td>0.016615</td>\n",
       "      <td>[25.31, 253.12]</td>\n",
       "      <td>0.078202</td>\n",
       "      <td>0.639</td>\n",
       "      <td>0.670527</td>\n",
       "    </tr>\n",
       "  </tbody>\n",
       "</table>\n",
       "</div>"
      ],
      "text/plain": [
       "               T          dof alternative     p-val            CI95%  \\\n",
       "T-test  2.396388  3199.526177   two-sided  0.016615  [25.31, 253.12]   \n",
       "\n",
       "         cohen-d   BF10     power  \n",
       "T-test  0.078202  0.639  0.670527  "
      ]
     },
     "execution_count": 31,
     "metadata": {},
     "output_type": "execute_result"
    }
   ],
   "source": [
    "#code for ttest\n",
    "\n",
    "# spending between men and women is insignificant\n",
    "pg.ttest(subset_male.Spending,subset_female.Spending)"
   ]
  },
  {
   "cell_type": "markdown",
   "id": "0514e148",
   "metadata": {
    "id": "0514e148"
   },
   "source": [
    "#### Part III: Statistical Analysis\n",
    "\n",
    "***After-Only design***\n",
    "   - To determine the treatment effect of customers’ adoption of the app on their spending with the hotel chain, construct a pivot table of average Spending broken up by Adopt and Post. What is the difference between the treatment and control groups’ spending in the Post =1 period? This is the treatment effect, assuming the experiment is of an After-Only design."
   ]
  },
  {
   "cell_type": "code",
   "execution_count": 32,
   "id": "aa840607",
   "metadata": {
    "id": "aa840607"
   },
   "outputs": [
    {
     "data": {
      "text/html": [
       "<div>\n",
       "<style scoped>\n",
       "    .dataframe tbody tr th:only-of-type {\n",
       "        vertical-align: middle;\n",
       "    }\n",
       "\n",
       "    .dataframe tbody tr th {\n",
       "        vertical-align: top;\n",
       "    }\n",
       "\n",
       "    .dataframe thead th {\n",
       "        text-align: right;\n",
       "    }\n",
       "</style>\n",
       "<table border=\"1\" class=\"dataframe\">\n",
       "  <thead>\n",
       "    <tr style=\"text-align: right;\">\n",
       "      <th></th>\n",
       "      <th>Spending</th>\n",
       "    </tr>\n",
       "    <tr>\n",
       "      <th>Adopt</th>\n",
       "      <th></th>\n",
       "    </tr>\n",
       "  </thead>\n",
       "  <tbody>\n",
       "    <tr>\n",
       "      <th>0</th>\n",
       "      <td>4388.343</td>\n",
       "    </tr>\n",
       "    <tr>\n",
       "      <th>1</th>\n",
       "      <td>5336.304</td>\n",
       "    </tr>\n",
       "  </tbody>\n",
       "</table>\n",
       "</div>"
      ],
      "text/plain": [
       "       Spending\n",
       "Adopt          \n",
       "0      4388.343\n",
       "1      5336.304"
      ]
     },
     "execution_count": 32,
     "metadata": {},
     "output_type": "execute_result"
    }
   ],
   "source": [
    "### WRITE CODE FOR CONSTRUCTING A PIVOT TABLE\n",
    "### Hint - Check the documentation of pivot table\n",
    "#PART 3 analysis for tretment and control group when post = 1 \n",
    "### Report the difference between the spending of treatment and control groups in Post = 1 period.\n",
    "#As we can see from this table the difference in spending between people who used the app and did not use it is 948 \n",
    "\n",
    "\n",
    "ctgroup1 = df[df['Post'] == 1]\n",
    "ctgroup1_pivoted = pd.pivot_table(ctgroup1, values='Spending', index=['Adopt'],\n",
    "                        aggfunc={'Spending': \"mean\"}, fill_value=0)\n",
    "ctgroup1_pivoted \n",
    "\n",
    "\n"
   ]
  },
  {
   "cell_type": "markdown",
   "id": "rimVxtuAi9Jw",
   "metadata": {
    "id": "rimVxtuAi9Jw"
   },
   "source": [
    "  - Is the above treatment effect statistically significant? Perform the necessary hypothesis test and construct a 95% confidence interval for the difference. Take the level of significance as 0.05"
   ]
  },
  {
   "cell_type": "code",
   "execution_count": 33,
   "id": "08a34f56",
   "metadata": {
    "id": "08a34f56"
   },
   "outputs": [
    {
     "data": {
      "text/html": [
       "<div>\n",
       "<style scoped>\n",
       "    .dataframe tbody tr th:only-of-type {\n",
       "        vertical-align: middle;\n",
       "    }\n",
       "\n",
       "    .dataframe tbody tr th {\n",
       "        vertical-align: top;\n",
       "    }\n",
       "\n",
       "    .dataframe thead th {\n",
       "        text-align: right;\n",
       "    }\n",
       "</style>\n",
       "<table border=\"1\" class=\"dataframe\">\n",
       "  <thead>\n",
       "    <tr style=\"text-align: right;\">\n",
       "      <th></th>\n",
       "      <th>T</th>\n",
       "      <th>dof</th>\n",
       "      <th>alternative</th>\n",
       "      <th>p-val</th>\n",
       "      <th>CI95%</th>\n",
       "      <th>cohen-d</th>\n",
       "      <th>BF10</th>\n",
       "      <th>power</th>\n",
       "    </tr>\n",
       "  </thead>\n",
       "  <tbody>\n",
       "    <tr>\n",
       "      <th>T-test</th>\n",
       "      <td>12.361177</td>\n",
       "      <td>999</td>\n",
       "      <td>two-sided</td>\n",
       "      <td>9.188484e-33</td>\n",
       "      <td>[797.47, 1098.45]</td>\n",
       "      <td>0.545311</td>\n",
       "      <td>2.199e+29</td>\n",
       "      <td>1.0</td>\n",
       "    </tr>\n",
       "  </tbody>\n",
       "</table>\n",
       "</div>"
      ],
      "text/plain": [
       "                T  dof alternative         p-val              CI95%   cohen-d  \\\n",
       "T-test  12.361177  999   two-sided  9.188484e-33  [797.47, 1098.45]  0.545311   \n",
       "\n",
       "             BF10  power  \n",
       "T-test  2.199e+29    1.0  "
      ]
     },
     "execution_count": 33,
     "metadata": {},
     "output_type": "execute_result"
    }
   ],
   "source": [
    "### Hint - Once again, you can use the ttest method in the pingouin package to perform this task quickly.\n",
    "ctgroup1A0 = ctgroup1[ctgroup1['Adopt'] == 0]\n",
    "ctgroup1A1 = ctgroup1[ctgroup1['Adopt'] == 1]\n",
    "pg.ttest(ctgroup1A1.Spending, ctgroup1A0.Spending, paired=True)"
   ]
  },
  {
   "cell_type": "markdown",
   "id": "8d5fb6a9",
   "metadata": {
    "id": "8d5fb6a9"
   },
   "source": [
    "***Before-After design***\n",
    "\n",
    "\n",
    "- Construct a new DataFrame, where for each customer, you have a new variable, which is the difference in spending between the Post = 1 and Post= 0 periods.\n"
   ]
  },
  {
   "cell_type": "code",
   "execution_count": null,
   "id": "8817ceff",
   "metadata": {
    "id": "8817ceff"
   },
   "outputs": [],
   "source": [
    "### This task can be slightly challenging and hence for performing this we have suggested the following approach\n",
    "### Step 1 - Create 2 separate temporary dataframes, each filtered by Post = 1 and Post = 0 periods\n",
    "### Step 2 - Merge these two dataframes using the pandas.merge() method based on the \"CustomerID\" and store this in a new Dataframe\n",
    "### Step 3 - After merging, you may encounter repeated columns (denoted by a suffix like \"_x\" & \"_y\" ). Identify which ones you want to keep\n",
    "###, and which ones you want to drop. Make sure you keep the Spending columns for both Post = 1 and Post = 0 periods.\n",
    "### Step 4 - In the new merged Dataframe, create a new column which is the difference between the Spending in Post = 1 and Post = 0 for each customer\n",
    "### For ease of use, you can name this column as \"Diff\". This will be useful in the final task of this section"
   ]
  },
  {
   "cell_type": "markdown",
   "id": "KE_h3wJ6p0r_",
   "metadata": {
    "id": "KE_h3wJ6p0r_"
   },
   "source": [
    "---"
   ]
  },
  {
   "cell_type": "markdown",
   "id": "yHwDPpzFkJUj",
   "metadata": {
    "id": "yHwDPpzFkJUj"
   },
   "source": [
    "- Compute the average spending difference between those with Adopt = 1 and those with Adopt = 0 in both the Post = 1 and Post = 0 periods. Call these differences Difference1 and Difference0. Compute the difference between these two differences as Difference1 – Difference0. This is the treatment effect in the Before-After design."
   ]
  },
  {
   "cell_type": "code",
   "execution_count": 34,
   "id": "3468dd04",
   "metadata": {},
   "outputs": [],
   "source": [
    "p0 = df[df['Post'] == 0]\n",
    "p1 = df[df['Post'] == 1]"
   ]
  },
  {
   "cell_type": "code",
   "execution_count": 35,
   "id": "96b77121",
   "metadata": {},
   "outputs": [
    {
     "data": {
      "text/html": [
       "<div>\n",
       "<style scoped>\n",
       "    .dataframe tbody tr th:only-of-type {\n",
       "        vertical-align: middle;\n",
       "    }\n",
       "\n",
       "    .dataframe tbody tr th {\n",
       "        vertical-align: top;\n",
       "    }\n",
       "\n",
       "    .dataframe thead th {\n",
       "        text-align: right;\n",
       "    }\n",
       "</style>\n",
       "<table border=\"1\" class=\"dataframe\">\n",
       "  <thead>\n",
       "    <tr style=\"text-align: right;\">\n",
       "      <th></th>\n",
       "      <th>CustomerID</th>\n",
       "      <th>Adopt_left</th>\n",
       "      <th>Gender_left</th>\n",
       "      <th>Age_left</th>\n",
       "      <th>Nationality_left</th>\n",
       "      <th>Loyalty_left</th>\n",
       "      <th>Tenure_left</th>\n",
       "      <th>Post_left</th>\n",
       "      <th>NumBookings_left</th>\n",
       "      <th>Spending_left</th>\n",
       "      <th>Adopt_right</th>\n",
       "      <th>Gender_right</th>\n",
       "      <th>Age_right</th>\n",
       "      <th>Nationality_right</th>\n",
       "      <th>Loyalty_right</th>\n",
       "      <th>Tenure_right</th>\n",
       "      <th>Post_right</th>\n",
       "      <th>NumBookings_right</th>\n",
       "      <th>Spending_right</th>\n",
       "    </tr>\n",
       "  </thead>\n",
       "  <tbody>\n",
       "    <tr>\n",
       "      <th>0</th>\n",
       "      <td>1001</td>\n",
       "      <td>1</td>\n",
       "      <td>Male</td>\n",
       "      <td>34</td>\n",
       "      <td>1</td>\n",
       "      <td>2</td>\n",
       "      <td>57</td>\n",
       "      <td>0</td>\n",
       "      <td>14</td>\n",
       "      <td>3976</td>\n",
       "      <td>1</td>\n",
       "      <td>Male</td>\n",
       "      <td>34</td>\n",
       "      <td>1</td>\n",
       "      <td>2</td>\n",
       "      <td>57</td>\n",
       "      <td>1</td>\n",
       "      <td>18</td>\n",
       "      <td>5760</td>\n",
       "    </tr>\n",
       "    <tr>\n",
       "      <th>1</th>\n",
       "      <td>1002</td>\n",
       "      <td>1</td>\n",
       "      <td>Female</td>\n",
       "      <td>36</td>\n",
       "      <td>1</td>\n",
       "      <td>2</td>\n",
       "      <td>5</td>\n",
       "      <td>0</td>\n",
       "      <td>5</td>\n",
       "      <td>1455</td>\n",
       "      <td>1</td>\n",
       "      <td>Female</td>\n",
       "      <td>36</td>\n",
       "      <td>1</td>\n",
       "      <td>2</td>\n",
       "      <td>5</td>\n",
       "      <td>1</td>\n",
       "      <td>6</td>\n",
       "      <td>1830</td>\n",
       "    </tr>\n",
       "    <tr>\n",
       "      <th>2</th>\n",
       "      <td>1003</td>\n",
       "      <td>1</td>\n",
       "      <td>Female</td>\n",
       "      <td>43</td>\n",
       "      <td>1</td>\n",
       "      <td>1</td>\n",
       "      <td>12</td>\n",
       "      <td>0</td>\n",
       "      <td>6</td>\n",
       "      <td>1656</td>\n",
       "      <td>1</td>\n",
       "      <td>Female</td>\n",
       "      <td>43</td>\n",
       "      <td>1</td>\n",
       "      <td>1</td>\n",
       "      <td>12</td>\n",
       "      <td>1</td>\n",
       "      <td>9</td>\n",
       "      <td>2682</td>\n",
       "    </tr>\n",
       "    <tr>\n",
       "      <th>3</th>\n",
       "      <td>1004</td>\n",
       "      <td>1</td>\n",
       "      <td>Male</td>\n",
       "      <td>47</td>\n",
       "      <td>1</td>\n",
       "      <td>1</td>\n",
       "      <td>70</td>\n",
       "      <td>0</td>\n",
       "      <td>18</td>\n",
       "      <td>5148</td>\n",
       "      <td>1</td>\n",
       "      <td>Male</td>\n",
       "      <td>47</td>\n",
       "      <td>1</td>\n",
       "      <td>1</td>\n",
       "      <td>70</td>\n",
       "      <td>1</td>\n",
       "      <td>21</td>\n",
       "      <td>6846</td>\n",
       "    </tr>\n",
       "    <tr>\n",
       "      <th>4</th>\n",
       "      <td>1005</td>\n",
       "      <td>1</td>\n",
       "      <td>Male</td>\n",
       "      <td>41</td>\n",
       "      <td>1</td>\n",
       "      <td>2</td>\n",
       "      <td>13</td>\n",
       "      <td>0</td>\n",
       "      <td>6</td>\n",
       "      <td>1782</td>\n",
       "      <td>1</td>\n",
       "      <td>Male</td>\n",
       "      <td>41</td>\n",
       "      <td>1</td>\n",
       "      <td>2</td>\n",
       "      <td>13</td>\n",
       "      <td>1</td>\n",
       "      <td>11</td>\n",
       "      <td>3377</td>\n",
       "    </tr>\n",
       "    <tr>\n",
       "      <th>5</th>\n",
       "      <td>1006</td>\n",
       "      <td>1</td>\n",
       "      <td>Male</td>\n",
       "      <td>30</td>\n",
       "      <td>1</td>\n",
       "      <td>2</td>\n",
       "      <td>37</td>\n",
       "      <td>0</td>\n",
       "      <td>9</td>\n",
       "      <td>2610</td>\n",
       "      <td>1</td>\n",
       "      <td>Male</td>\n",
       "      <td>30</td>\n",
       "      <td>1</td>\n",
       "      <td>2</td>\n",
       "      <td>37</td>\n",
       "      <td>1</td>\n",
       "      <td>13</td>\n",
       "      <td>4472</td>\n",
       "    </tr>\n",
       "    <tr>\n",
       "      <th>6</th>\n",
       "      <td>1007</td>\n",
       "      <td>1</td>\n",
       "      <td>Male</td>\n",
       "      <td>36</td>\n",
       "      <td>1</td>\n",
       "      <td>2</td>\n",
       "      <td>9</td>\n",
       "      <td>0</td>\n",
       "      <td>7</td>\n",
       "      <td>1890</td>\n",
       "      <td>1</td>\n",
       "      <td>Male</td>\n",
       "      <td>36</td>\n",
       "      <td>1</td>\n",
       "      <td>2</td>\n",
       "      <td>9</td>\n",
       "      <td>1</td>\n",
       "      <td>11</td>\n",
       "      <td>3795</td>\n",
       "    </tr>\n",
       "    <tr>\n",
       "      <th>7</th>\n",
       "      <td>1008</td>\n",
       "      <td>1</td>\n",
       "      <td>Male</td>\n",
       "      <td>38</td>\n",
       "      <td>1</td>\n",
       "      <td>1</td>\n",
       "      <td>52</td>\n",
       "      <td>0</td>\n",
       "      <td>14</td>\n",
       "      <td>4494</td>\n",
       "      <td>1</td>\n",
       "      <td>Male</td>\n",
       "      <td>38</td>\n",
       "      <td>1</td>\n",
       "      <td>1</td>\n",
       "      <td>52</td>\n",
       "      <td>1</td>\n",
       "      <td>17</td>\n",
       "      <td>4930</td>\n",
       "    </tr>\n",
       "    <tr>\n",
       "      <th>8</th>\n",
       "      <td>1009</td>\n",
       "      <td>1</td>\n",
       "      <td>Male</td>\n",
       "      <td>60</td>\n",
       "      <td>1</td>\n",
       "      <td>2</td>\n",
       "      <td>41</td>\n",
       "      <td>0</td>\n",
       "      <td>13</td>\n",
       "      <td>3614</td>\n",
       "      <td>1</td>\n",
       "      <td>Male</td>\n",
       "      <td>60</td>\n",
       "      <td>1</td>\n",
       "      <td>2</td>\n",
       "      <td>41</td>\n",
       "      <td>1</td>\n",
       "      <td>18</td>\n",
       "      <td>5832</td>\n",
       "    </tr>\n",
       "    <tr>\n",
       "      <th>9</th>\n",
       "      <td>1010</td>\n",
       "      <td>1</td>\n",
       "      <td>Male</td>\n",
       "      <td>51</td>\n",
       "      <td>1</td>\n",
       "      <td>1</td>\n",
       "      <td>60</td>\n",
       "      <td>0</td>\n",
       "      <td>16</td>\n",
       "      <td>4624</td>\n",
       "      <td>1</td>\n",
       "      <td>Male</td>\n",
       "      <td>51</td>\n",
       "      <td>1</td>\n",
       "      <td>1</td>\n",
       "      <td>60</td>\n",
       "      <td>1</td>\n",
       "      <td>19</td>\n",
       "      <td>5757</td>\n",
       "    </tr>\n",
       "  </tbody>\n",
       "</table>\n",
       "</div>"
      ],
      "text/plain": [
       "   CustomerID  Adopt_left Gender_left  Age_left  Nationality_left  \\\n",
       "0        1001           1        Male        34                 1   \n",
       "1        1002           1      Female        36                 1   \n",
       "2        1003           1      Female        43                 1   \n",
       "3        1004           1        Male        47                 1   \n",
       "4        1005           1        Male        41                 1   \n",
       "5        1006           1        Male        30                 1   \n",
       "6        1007           1        Male        36                 1   \n",
       "7        1008           1        Male        38                 1   \n",
       "8        1009           1        Male        60                 1   \n",
       "9        1010           1        Male        51                 1   \n",
       "\n",
       "   Loyalty_left  Tenure_left  Post_left  NumBookings_left  Spending_left  \\\n",
       "0             2           57          0                14           3976   \n",
       "1             2            5          0                 5           1455   \n",
       "2             1           12          0                 6           1656   \n",
       "3             1           70          0                18           5148   \n",
       "4             2           13          0                 6           1782   \n",
       "5             2           37          0                 9           2610   \n",
       "6             2            9          0                 7           1890   \n",
       "7             1           52          0                14           4494   \n",
       "8             2           41          0                13           3614   \n",
       "9             1           60          0                16           4624   \n",
       "\n",
       "   Adopt_right Gender_right  Age_right  Nationality_right  Loyalty_right  \\\n",
       "0            1         Male         34                  1              2   \n",
       "1            1       Female         36                  1              2   \n",
       "2            1       Female         43                  1              1   \n",
       "3            1         Male         47                  1              1   \n",
       "4            1         Male         41                  1              2   \n",
       "5            1         Male         30                  1              2   \n",
       "6            1         Male         36                  1              2   \n",
       "7            1         Male         38                  1              1   \n",
       "8            1         Male         60                  1              2   \n",
       "9            1         Male         51                  1              1   \n",
       "\n",
       "   Tenure_right  Post_right  NumBookings_right  Spending_right  \n",
       "0            57           1                 18            5760  \n",
       "1             5           1                  6            1830  \n",
       "2            12           1                  9            2682  \n",
       "3            70           1                 21            6846  \n",
       "4            13           1                 11            3377  \n",
       "5            37           1                 13            4472  \n",
       "6             9           1                 11            3795  \n",
       "7            52           1                 17            4930  \n",
       "8            41           1                 18            5832  \n",
       "9            60           1                 19            5757  "
      ]
     },
     "execution_count": 35,
     "metadata": {},
     "output_type": "execute_result"
    }
   ],
   "source": [
    "merged_p0p1 = pd.merge(p0, p1, on = 'CustomerID', suffixes = ('_left', '_right'))\n",
    "merged_p0p1.head(10)"
   ]
  },
  {
   "cell_type": "code",
   "execution_count": 36,
   "id": "9f8b4e76",
   "metadata": {},
   "outputs": [
    {
     "data": {
      "text/html": [
       "<div>\n",
       "<style scoped>\n",
       "    .dataframe tbody tr th:only-of-type {\n",
       "        vertical-align: middle;\n",
       "    }\n",
       "\n",
       "    .dataframe tbody tr th {\n",
       "        vertical-align: top;\n",
       "    }\n",
       "\n",
       "    .dataframe thead th {\n",
       "        text-align: right;\n",
       "    }\n",
       "</style>\n",
       "<table border=\"1\" class=\"dataframe\">\n",
       "  <thead>\n",
       "    <tr style=\"text-align: right;\">\n",
       "      <th></th>\n",
       "      <th>CustomerID</th>\n",
       "      <th>Adopt_left</th>\n",
       "      <th>Gender_left</th>\n",
       "      <th>Post_left</th>\n",
       "      <th>Spending_left</th>\n",
       "      <th>Post_right</th>\n",
       "      <th>Spending_right</th>\n",
       "    </tr>\n",
       "  </thead>\n",
       "  <tbody>\n",
       "    <tr>\n",
       "      <th>0</th>\n",
       "      <td>1001</td>\n",
       "      <td>1</td>\n",
       "      <td>Male</td>\n",
       "      <td>0</td>\n",
       "      <td>3976</td>\n",
       "      <td>1</td>\n",
       "      <td>5760</td>\n",
       "    </tr>\n",
       "    <tr>\n",
       "      <th>1</th>\n",
       "      <td>1002</td>\n",
       "      <td>1</td>\n",
       "      <td>Female</td>\n",
       "      <td>0</td>\n",
       "      <td>1455</td>\n",
       "      <td>1</td>\n",
       "      <td>1830</td>\n",
       "    </tr>\n",
       "    <tr>\n",
       "      <th>2</th>\n",
       "      <td>1003</td>\n",
       "      <td>1</td>\n",
       "      <td>Female</td>\n",
       "      <td>0</td>\n",
       "      <td>1656</td>\n",
       "      <td>1</td>\n",
       "      <td>2682</td>\n",
       "    </tr>\n",
       "    <tr>\n",
       "      <th>3</th>\n",
       "      <td>1004</td>\n",
       "      <td>1</td>\n",
       "      <td>Male</td>\n",
       "      <td>0</td>\n",
       "      <td>5148</td>\n",
       "      <td>1</td>\n",
       "      <td>6846</td>\n",
       "    </tr>\n",
       "    <tr>\n",
       "      <th>4</th>\n",
       "      <td>1005</td>\n",
       "      <td>1</td>\n",
       "      <td>Male</td>\n",
       "      <td>0</td>\n",
       "      <td>1782</td>\n",
       "      <td>1</td>\n",
       "      <td>3377</td>\n",
       "    </tr>\n",
       "    <tr>\n",
       "      <th>...</th>\n",
       "      <td>...</td>\n",
       "      <td>...</td>\n",
       "      <td>...</td>\n",
       "      <td>...</td>\n",
       "      <td>...</td>\n",
       "      <td>...</td>\n",
       "      <td>...</td>\n",
       "    </tr>\n",
       "    <tr>\n",
       "      <th>1995</th>\n",
       "      <td>996</td>\n",
       "      <td>0</td>\n",
       "      <td>Male</td>\n",
       "      <td>0</td>\n",
       "      <td>1420</td>\n",
       "      <td>1</td>\n",
       "      <td>1488</td>\n",
       "    </tr>\n",
       "    <tr>\n",
       "      <th>1996</th>\n",
       "      <td>997</td>\n",
       "      <td>0</td>\n",
       "      <td>Female</td>\n",
       "      <td>0</td>\n",
       "      <td>4395</td>\n",
       "      <td>1</td>\n",
       "      <td>4403</td>\n",
       "    </tr>\n",
       "    <tr>\n",
       "      <th>1997</th>\n",
       "      <td>998</td>\n",
       "      <td>0</td>\n",
       "      <td>Female</td>\n",
       "      <td>0</td>\n",
       "      <td>5166</td>\n",
       "      <td>1</td>\n",
       "      <td>4370</td>\n",
       "    </tr>\n",
       "    <tr>\n",
       "      <th>1998</th>\n",
       "      <td>999</td>\n",
       "      <td>0</td>\n",
       "      <td>Male</td>\n",
       "      <td>0</td>\n",
       "      <td>4896</td>\n",
       "      <td>1</td>\n",
       "      <td>5020</td>\n",
       "    </tr>\n",
       "    <tr>\n",
       "      <th>1999</th>\n",
       "      <td>1000</td>\n",
       "      <td>0</td>\n",
       "      <td>Male</td>\n",
       "      <td>0</td>\n",
       "      <td>1470</td>\n",
       "      <td>1</td>\n",
       "      <td>1446</td>\n",
       "    </tr>\n",
       "  </tbody>\n",
       "</table>\n",
       "<p>2000 rows × 7 columns</p>\n",
       "</div>"
      ],
      "text/plain": [
       "      CustomerID  Adopt_left Gender_left  Post_left  Spending_left  \\\n",
       "0           1001           1        Male          0           3976   \n",
       "1           1002           1      Female          0           1455   \n",
       "2           1003           1      Female          0           1656   \n",
       "3           1004           1        Male          0           5148   \n",
       "4           1005           1        Male          0           1782   \n",
       "...          ...         ...         ...        ...            ...   \n",
       "1995         996           0        Male          0           1420   \n",
       "1996         997           0      Female          0           4395   \n",
       "1997         998           0      Female          0           5166   \n",
       "1998         999           0        Male          0           4896   \n",
       "1999        1000           0        Male          0           1470   \n",
       "\n",
       "      Post_right  Spending_right  \n",
       "0              1            5760  \n",
       "1              1            1830  \n",
       "2              1            2682  \n",
       "3              1            6846  \n",
       "4              1            3377  \n",
       "...          ...             ...  \n",
       "1995           1            1488  \n",
       "1996           1            4403  \n",
       "1997           1            4370  \n",
       "1998           1            5020  \n",
       "1999           1            1446  \n",
       "\n",
       "[2000 rows x 7 columns]"
      ]
     },
     "execution_count": 36,
     "metadata": {},
     "output_type": "execute_result"
    }
   ],
   "source": [
    "merged_p0p1 = merged_p0p1.drop(columns=['Loyalty_left', 'Tenure_left', 'Age_left', 'Nationality_left', 'NumBookings_left','Adopt_right','Gender_right', 'Loyalty_right', 'Tenure_right', 'Age_right', 'Nationality_right', 'NumBookings_right'])\n",
    "merged_p0p1"
   ]
  },
  {
   "cell_type": "code",
   "execution_count": 39,
   "id": "2b4ed9c8",
   "metadata": {},
   "outputs": [
    {
     "data": {
      "text/html": [
       "<div>\n",
       "<style scoped>\n",
       "    .dataframe tbody tr th:only-of-type {\n",
       "        vertical-align: middle;\n",
       "    }\n",
       "\n",
       "    .dataframe tbody tr th {\n",
       "        vertical-align: top;\n",
       "    }\n",
       "\n",
       "    .dataframe thead th {\n",
       "        text-align: right;\n",
       "    }\n",
       "</style>\n",
       "<table border=\"1\" class=\"dataframe\">\n",
       "  <thead>\n",
       "    <tr style=\"text-align: right;\">\n",
       "      <th></th>\n",
       "      <th>CustomerID</th>\n",
       "      <th>Adopt_left</th>\n",
       "      <th>Gender_left</th>\n",
       "      <th>Post_left</th>\n",
       "      <th>Spending_left</th>\n",
       "      <th>Post_right</th>\n",
       "      <th>Spending_right</th>\n",
       "      <th>Diff</th>\n",
       "    </tr>\n",
       "  </thead>\n",
       "  <tbody>\n",
       "    <tr>\n",
       "      <th>0</th>\n",
       "      <td>1001</td>\n",
       "      <td>1</td>\n",
       "      <td>Male</td>\n",
       "      <td>0</td>\n",
       "      <td>3976</td>\n",
       "      <td>1</td>\n",
       "      <td>5760</td>\n",
       "      <td>1784</td>\n",
       "    </tr>\n",
       "    <tr>\n",
       "      <th>1</th>\n",
       "      <td>1002</td>\n",
       "      <td>1</td>\n",
       "      <td>Female</td>\n",
       "      <td>0</td>\n",
       "      <td>1455</td>\n",
       "      <td>1</td>\n",
       "      <td>1830</td>\n",
       "      <td>375</td>\n",
       "    </tr>\n",
       "    <tr>\n",
       "      <th>2</th>\n",
       "      <td>1003</td>\n",
       "      <td>1</td>\n",
       "      <td>Female</td>\n",
       "      <td>0</td>\n",
       "      <td>1656</td>\n",
       "      <td>1</td>\n",
       "      <td>2682</td>\n",
       "      <td>1026</td>\n",
       "    </tr>\n",
       "    <tr>\n",
       "      <th>3</th>\n",
       "      <td>1004</td>\n",
       "      <td>1</td>\n",
       "      <td>Male</td>\n",
       "      <td>0</td>\n",
       "      <td>5148</td>\n",
       "      <td>1</td>\n",
       "      <td>6846</td>\n",
       "      <td>1698</td>\n",
       "    </tr>\n",
       "    <tr>\n",
       "      <th>4</th>\n",
       "      <td>1005</td>\n",
       "      <td>1</td>\n",
       "      <td>Male</td>\n",
       "      <td>0</td>\n",
       "      <td>1782</td>\n",
       "      <td>1</td>\n",
       "      <td>3377</td>\n",
       "      <td>1595</td>\n",
       "    </tr>\n",
       "    <tr>\n",
       "      <th>...</th>\n",
       "      <td>...</td>\n",
       "      <td>...</td>\n",
       "      <td>...</td>\n",
       "      <td>...</td>\n",
       "      <td>...</td>\n",
       "      <td>...</td>\n",
       "      <td>...</td>\n",
       "      <td>...</td>\n",
       "    </tr>\n",
       "    <tr>\n",
       "      <th>1995</th>\n",
       "      <td>996</td>\n",
       "      <td>0</td>\n",
       "      <td>Male</td>\n",
       "      <td>0</td>\n",
       "      <td>1420</td>\n",
       "      <td>1</td>\n",
       "      <td>1488</td>\n",
       "      <td>68</td>\n",
       "    </tr>\n",
       "    <tr>\n",
       "      <th>1996</th>\n",
       "      <td>997</td>\n",
       "      <td>0</td>\n",
       "      <td>Female</td>\n",
       "      <td>0</td>\n",
       "      <td>4395</td>\n",
       "      <td>1</td>\n",
       "      <td>4403</td>\n",
       "      <td>8</td>\n",
       "    </tr>\n",
       "    <tr>\n",
       "      <th>1997</th>\n",
       "      <td>998</td>\n",
       "      <td>0</td>\n",
       "      <td>Female</td>\n",
       "      <td>0</td>\n",
       "      <td>5166</td>\n",
       "      <td>1</td>\n",
       "      <td>4370</td>\n",
       "      <td>-796</td>\n",
       "    </tr>\n",
       "    <tr>\n",
       "      <th>1998</th>\n",
       "      <td>999</td>\n",
       "      <td>0</td>\n",
       "      <td>Male</td>\n",
       "      <td>0</td>\n",
       "      <td>4896</td>\n",
       "      <td>1</td>\n",
       "      <td>5020</td>\n",
       "      <td>124</td>\n",
       "    </tr>\n",
       "    <tr>\n",
       "      <th>1999</th>\n",
       "      <td>1000</td>\n",
       "      <td>0</td>\n",
       "      <td>Male</td>\n",
       "      <td>0</td>\n",
       "      <td>1470</td>\n",
       "      <td>1</td>\n",
       "      <td>1446</td>\n",
       "      <td>-24</td>\n",
       "    </tr>\n",
       "  </tbody>\n",
       "</table>\n",
       "<p>2000 rows × 8 columns</p>\n",
       "</div>"
      ],
      "text/plain": [
       "      CustomerID  Adopt_left Gender_left  Post_left  Spending_left  \\\n",
       "0           1001           1        Male          0           3976   \n",
       "1           1002           1      Female          0           1455   \n",
       "2           1003           1      Female          0           1656   \n",
       "3           1004           1        Male          0           5148   \n",
       "4           1005           1        Male          0           1782   \n",
       "...          ...         ...         ...        ...            ...   \n",
       "1995         996           0        Male          0           1420   \n",
       "1996         997           0      Female          0           4395   \n",
       "1997         998           0      Female          0           5166   \n",
       "1998         999           0        Male          0           4896   \n",
       "1999        1000           0        Male          0           1470   \n",
       "\n",
       "      Post_right  Spending_right  Diff  \n",
       "0              1            5760  1784  \n",
       "1              1            1830   375  \n",
       "2              1            2682  1026  \n",
       "3              1            6846  1698  \n",
       "4              1            3377  1595  \n",
       "...          ...             ...   ...  \n",
       "1995           1            1488    68  \n",
       "1996           1            4403     8  \n",
       "1997           1            4370  -796  \n",
       "1998           1            5020   124  \n",
       "1999           1            1446   -24  \n",
       "\n",
       "[2000 rows x 8 columns]"
      ]
     },
     "execution_count": 39,
     "metadata": {},
     "output_type": "execute_result"
    }
   ],
   "source": [
    "merged_p0p1['Diff'] = merged_p0p1 ['Spending_right'] - merged_p0p1 ['Spending_left'] \n",
    "merged_p0p1\n"
   ]
  },
  {
   "cell_type": "code",
   "execution_count": null,
   "id": "ax41alzjqOUW",
   "metadata": {
    "id": "ax41alzjqOUW"
   },
   "outputs": [],
   "source": [
    "\n",
    "## Calculate the average spending for Customers from control group (Adopt = 0) in the period Post = 0\n",
    "## Calculate the average spending for Customers from treamtent group (Adopt = 1) in the period Post = 0\n",
    "## Calculate the difference between the above two values. This will be Difference0 (or Treatment OEC(Before) - Control OEC (Before))\n",
    "\n",
    "## After the above, repeat the same steps for Post = 1 period\n",
    "## Calculate the average spending for Customers from control group (Adopt = 0) in the period Post = 1\n",
    "## Calculate the average spending for Customers from treamtent group (Adopt = 1) in the period Post = 1\n",
    "## Calculate the difference between the above two values. This will be Difference1 (or Treatment OEC(After) - Control OEC (After))\n",
    "\n",
    "### Finally calculate the difference between these two values (Difference1 - Difference0) to obtain the treatment effect."
   ]
  },
  {
   "cell_type": "code",
   "execution_count": 40,
   "id": "7aee0535",
   "metadata": {},
   "outputs": [
    {
     "data": {
      "text/plain": [
       "4188.753"
      ]
     },
     "execution_count": 40,
     "metadata": {},
     "output_type": "execute_result"
    }
   ],
   "source": [
    "## Calculate the average spending for Customers from control group (Adopt = 0) in the period Post = 0\n",
    "avga0p0 = df[(df['Adopt'] == 0) & (df['Post']==0)]\n",
    "avga0p0Value = avga0p0['Spending'].mean()\n",
    "avga0p0Value"
   ]
  },
  {
   "cell_type": "code",
   "execution_count": 41,
   "id": "57c89fab",
   "metadata": {},
   "outputs": [
    {
     "data": {
      "text/plain": [
       "4275.593"
      ]
     },
     "execution_count": 41,
     "metadata": {},
     "output_type": "execute_result"
    }
   ],
   "source": [
    "## Calculate the average spending for Customers from treamtent group (Adopt = 1) in the period Post = 0\n",
    "avga1p0 = df[(df['Adopt'] == 1) & (df['Post']==0)]\n",
    "avga1p0Value = avga1p0['Spending'].mean()\n",
    "avga1p0Value"
   ]
  },
  {
   "cell_type": "code",
   "execution_count": 42,
   "id": "0cf31998",
   "metadata": {},
   "outputs": [
    {
     "name": "stdout",
     "output_type": "stream",
     "text": [
      "86.84000000000015\n"
     ]
    }
   ],
   "source": [
    "## Calculate the difference between the above two values.\n",
    "##This will be Difference0 (or Treatment OEC(Before) - Control OEC (Before))\n",
    "\n",
    "diff0 = avga1p0Value - avga0p0Value \n",
    "print(diff0)\n"
   ]
  },
  {
   "cell_type": "code",
   "execution_count": 43,
   "id": "eec73a51",
   "metadata": {},
   "outputs": [
    {
     "data": {
      "text/plain": [
       "4388.343"
      ]
     },
     "execution_count": 43,
     "metadata": {},
     "output_type": "execute_result"
    }
   ],
   "source": [
    "## Calculate the average spending for Customers from control group (Adopt = 0) in the period Post = 1\n",
    "avga0p1 = avga1p0 = df[(df['Adopt'] == 0) & (df['Post']==1)]\n",
    "avga0p1Value = avga0p1['Spending'].mean()\n",
    "avga0p1Value"
   ]
  },
  {
   "cell_type": "code",
   "execution_count": 44,
   "id": "026a353b",
   "metadata": {},
   "outputs": [
    {
     "data": {
      "text/plain": [
       "5336.304"
      ]
     },
     "execution_count": 44,
     "metadata": {},
     "output_type": "execute_result"
    }
   ],
   "source": [
    "## Calculate the average spending for Customers from treamtent group (Adopt = 1) in the period Post = 1\n",
    "avga1p1 = avga1p0 = df[(df['Adopt'] == 1) & (df['Post']==1)]\n",
    "avga1p1Value = avga1p1['Spending'].mean()\n",
    "avga1p1Value"
   ]
  },
  {
   "cell_type": "code",
   "execution_count": 45,
   "id": "4ab93309",
   "metadata": {},
   "outputs": [
    {
     "name": "stdout",
     "output_type": "stream",
     "text": [
      "947.9610000000002\n"
     ]
    }
   ],
   "source": [
    "## Calculate the difference between the above two values. \n",
    "##This will be Difference1 (or Treatment OEC(After) - Control OEC (After))\n",
    "\n",
    "diff1 = avga1p1Value - avga0p1Value\n",
    "print(diff1)"
   ]
  },
  {
   "cell_type": "code",
   "execution_count": 46,
   "id": "b2b5d6be",
   "metadata": {},
   "outputs": [
    {
     "data": {
      "text/plain": [
       "861.1210000000001"
      ]
     },
     "execution_count": 46,
     "metadata": {},
     "output_type": "execute_result"
    }
   ],
   "source": [
    "### Finally calculate the difference between these two values (Difference1 - Difference0) to obtain the treatment effect.\n",
    "\n",
    "diff_total = diff1 - diff0\n",
    "diff_total "
   ]
  },
  {
   "cell_type": "markdown",
   "id": "H2QUkg9flKdl",
   "metadata": {
    "id": "H2QUkg9flKdl"
   },
   "source": [
    "- Is the above treatment effect statistically significant? Similar to the previous step, perform the necessary hypothesis test and construct a 95% confidence interval for the difference in differences. Take the level of significance as 0.05"
   ]
  },
  {
   "cell_type": "code",
   "execution_count": null,
   "id": "07ac2d62",
   "metadata": {
    "id": "07ac2d62"
   },
   "outputs": [],
   "source": [
    "### Once again, you can peform this task using the pingouin package\n",
    "### In addition, you can use the \"Diff\" column from new DataFrame that you created in the first task of this section\n",
    "### This will help in providing inputs to the ttest method from pingouin package."
   ]
  },
  {
   "cell_type": "code",
   "execution_count": 48,
   "id": "d1a02343",
   "metadata": {},
   "outputs": [
    {
     "data": {
      "text/html": [
       "<div>\n",
       "<style scoped>\n",
       "    .dataframe tbody tr th:only-of-type {\n",
       "        vertical-align: middle;\n",
       "    }\n",
       "\n",
       "    .dataframe tbody tr th {\n",
       "        vertical-align: top;\n",
       "    }\n",
       "\n",
       "    .dataframe thead th {\n",
       "        text-align: right;\n",
       "    }\n",
       "</style>\n",
       "<table border=\"1\" class=\"dataframe\">\n",
       "  <thead>\n",
       "    <tr style=\"text-align: right;\">\n",
       "      <th></th>\n",
       "      <th>T</th>\n",
       "      <th>dof</th>\n",
       "      <th>alternative</th>\n",
       "      <th>p-val</th>\n",
       "      <th>CI95%</th>\n",
       "      <th>cohen-d</th>\n",
       "      <th>BF10</th>\n",
       "      <th>power</th>\n",
       "    </tr>\n",
       "  </thead>\n",
       "  <tbody>\n",
       "    <tr>\n",
       "      <th>T-test</th>\n",
       "      <td>30.285769</td>\n",
       "      <td>999</td>\n",
       "      <td>two-sided</td>\n",
       "      <td>1.828852e-143</td>\n",
       "      <td>[805.33, 916.92]</td>\n",
       "      <td>1.354689</td>\n",
       "      <td>3.478e+139</td>\n",
       "      <td>1.0</td>\n",
       "    </tr>\n",
       "  </tbody>\n",
       "</table>\n",
       "</div>"
      ],
      "text/plain": [
       "                T  dof alternative          p-val             CI95%   cohen-d  \\\n",
       "T-test  30.285769  999   two-sided  1.828852e-143  [805.33, 916.92]  1.354689   \n",
       "\n",
       "              BF10  power  \n",
       "T-test  3.478e+139    1.0  "
      ]
     },
     "execution_count": 48,
     "metadata": {},
     "output_type": "execute_result"
    }
   ],
   "source": [
    "adopt0ttest = merged_p0p1[merged_p0p1['Adopt_left']==0]\n",
    "adopt1ttest = merged_p0p1[merged_p0p1['Adopt_left']==1]\n",
    "\n",
    "pg.ttest(adopt1ttest.Diff, adopt0ttest.Diff, paired=True)"
   ]
  },
  {
   "cell_type": "code",
   "execution_count": null,
   "id": "9a1567d1",
   "metadata": {},
   "outputs": [],
   "source": []
  }
 ],
 "metadata": {
  "colab": {
   "provenance": []
  },
  "kernelspec": {
   "display_name": "Python 3 (ipykernel)",
   "language": "python",
   "name": "python3"
  },
  "language_info": {
   "codemirror_mode": {
    "name": "ipython",
    "version": 3
   },
   "file_extension": ".py",
   "mimetype": "text/x-python",
   "name": "python",
   "nbconvert_exporter": "python",
   "pygments_lexer": "ipython3",
   "version": "3.10.9"
  }
 },
 "nbformat": 4,
 "nbformat_minor": 5
}
